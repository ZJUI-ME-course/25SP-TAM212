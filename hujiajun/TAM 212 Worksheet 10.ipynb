{
 "cells": [
  {
   "cell_type": "code",
   "execution_count": 36,
   "metadata": {},
   "outputs": [],
   "source": [
    "from math import *\n",
    "import numpy as np\n",
    "import sympy as sy\n",
    "from sympy import cos,sin\n",
    "import matplotlib.pyplot as plt"
   ]
  },
  {
   "cell_type": "code",
   "execution_count": 89,
   "metadata": {},
   "outputs": [
    {
     "data": {
      "text/latex": [
       "$\\displaystyle 2970.11451539535$"
      ],
      "text/plain": [
       "2970.11451539535"
      ]
     },
     "execution_count": 89,
     "metadata": {},
     "output_type": "execute_result"
    },
    {
     "data": {
      "image/png": "[encoded data removed]",
      "text/plain": [
       "<Figure size 432x288 with 1 Axes>"
      ]
     },
     "metadata": {
      "needs_background": "light"
     },
     "output_type": "display_data"
    }
   ],
   "source": [
    "T=24*60*60  #s\n",
    "g=9.81\n",
    "ReMag=6371*1000 #m\n",
    "m=68.0388555 #kg\n",
    "\n",
    "w=np.array([0,2*pi/T,0])\n",
    "wMag=2*pi/T\n",
    "\n",
    "phi,Re=sy.S('phi,Re')\n",
    "\n",
    "r=Re*cos(phi)\n",
    "\n",
    "a=np.array([-w**2*r,0,0])\n",
    "a=a[0]\n",
    "\n",
    "FG=np.array([-m*g*cos(phi),m*g*sin(phi),0])\n",
    "F=m*a-FG\n",
    "\n",
    "u=np.array([cos(phi),sin(phi),0])\n",
    "v=np.array([-sin(phi),cos(phi),0])\n",
    "\n",
    "def MO(x):\n",
    "    return (x[0]**2+x[1]**2+x[2]**2)**0.5\n",
    "\n",
    "Fv=-m*g+cos(phi)*wMag**2*r\n",
    "Fu=sin(phi)*wMag**2*r\n",
    "\n",
    "Fv=Fv.subs(Re,ReMag)\n",
    "Fu=Fu.subs(Re,ReMag)\n",
    "W=-Fv\n",
    "\n",
    "\n",
    "n=1000\n",
    "x=np.linspace(-pi/2,pi/2,n)\n",
    "y=np.linspace(-pi/2,pi/2,n)\n",
    "for i in range(n):\n",
    "    y[i]=W.subs(phi,x[i])\n",
    "\n",
    "plt.plot(x,y)\n",
    "\n",
    "(W.subs(phi,40.1097*pi/180))*4.45"
   ]
  },
  {
   "cell_type": "code",
   "execution_count": 97,
   "metadata": {},
   "outputs": [
    {
     "data": {
      "text/latex": [
       "$\\displaystyle 1.00201304740036$"
      ],
      "text/plain": [
       "1.00201304740036"
      ]
     },
     "execution_count": 97,
     "metadata": {},
     "output_type": "execute_result"
    }
   ],
   "source": [
    "fraction=wMag**2*ReMag*cos(phi)**2/g\n",
    "\n",
    "(1-fraction.subs(phi,40.1097*pi/180))**-1"
   ]
  }
 ],
 "metadata": {
  "kernelspec": {
   "display_name": "Python 3",
   "language": "python",
   "name": "python3"
  },
  "language_info": {
   "codemirror_mode": {
    "name": "ipython",
    "version": 3
   },
   "file_extension": ".py",
   "mimetype": "text/x-python",
   "name": "python",
   "nbconvert_exporter": "python",
   "pygments_lexer": "ipython3",
   "version": "3.8.3"
  }
 },
 "nbformat": 4,
 "nbformat_minor": 4
}

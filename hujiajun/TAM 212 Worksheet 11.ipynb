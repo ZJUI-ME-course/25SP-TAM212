{
 "cells": [
  {
   "cell_type": "code",
   "execution_count": 1,
   "metadata": {},
   "outputs": [],
   "source": [
    "from sympy import *"
   ]
  },
  {
   "cell_type": "code",
   "execution_count": 6,
   "metadata": {},
   "outputs": [
    {
     "data": {
      "text/plain": [
       "[]"
      ]
     },
     "execution_count": 6,
     "metadata": {},
     "output_type": "execute_result"
    }
   ],
   "source": [
    "F1,N1,N2,R1,R2,D1,a,g,m,M1,L,H,r=S('F1,N1,N2,R1,R2,D1,a,g,m,M1,L,H,r')\n",
    "\n",
    "sumFx=F1-m*a\n",
    "sumFy=-m*g+N1+N2\n",
    "sumM=-N1*L+N2*-L-F1*H\n",
    "\n",
    "solve([sumFx,sumFy,sumM],[F1,N1,N2])"
   ]
  }
 ],
 "metadata": {
  "kernelspec": {
   "display_name": "Python 3",
   "language": "python",
   "name": "python3"
  },
  "language_info": {
   "codemirror_mode": {
    "name": "ipython",
    "version": 3
   },
   "file_extension": ".py",
   "mimetype": "text/x-python",
   "name": "python",
   "nbconvert_exporter": "python",
   "pygments_lexer": "ipython3",
   "version": "3.8.3"
  }
 },
 "nbformat": 4,
 "nbformat_minor": 4
}

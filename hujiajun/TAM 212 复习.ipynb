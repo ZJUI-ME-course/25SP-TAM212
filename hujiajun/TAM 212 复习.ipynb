{
 "cells": [
  {
   "cell_type": "code",
   "execution_count": 1,
   "metadata": {},
   "outputs": [],
   "source": [
    "import sympy as sy\n",
    "from sympy import *\n",
    "def MO(x):\n",
    "    return (x[0]**2+x[1]**2+x[2]**2)**0.5"
   ]
  },
  {
   "cell_type": "code",
   "execution_count": 16,
   "metadata": {},
   "outputs": [
    {
     "data": {
      "text/plain": [
       "[{x: -2.87571516486954, y: 0.854553854674689},\n",
       " {x: 2.40907218266147, y: -1.78783981909082}]"
      ]
     },
     "execution_count": 16,
     "metadata": {},
     "output_type": "execute_result"
    }
   ],
   "source": [
    "a = Matrix([-1, -2,  0])\n",
    "l = 3.000\n",
    "theta = 1.396 # in radians\n",
    "\n",
    "\n",
    "\n",
    "x,y=S('x,y')\n",
    "\n",
    "b=Matrix([x,y,0])\n",
    "\n",
    "la=MO(a)\n",
    "lb=3\n",
    "\n",
    "equ1=a.dot(b)-la*lb*cos(theta)\n",
    "equ2=MO(b)-3\n",
    "solve([equ1,equ2])\n"
   ]
  },
  {
   "cell_type": "code",
   "execution_count": 3,
   "metadata": {},
   "outputs": [
    {
     "data": {
      "text/plain": [
       "5.0"
      ]
     },
     "execution_count": 3,
     "metadata": {},
     "output_type": "execute_result"
    }
   ],
   "source": [
    "point=80\n",
    "(250-point/100*250)/10"
   ]
  },
  {
   "cell_type": "code",
   "execution_count": 17,
   "metadata": {},
   "outputs": [
    {
     "data": {
      "text/plain": [
       "87.2"
      ]
     },
     "execution_count": 17,
     "metadata": {},
     "output_type": "execute_result"
    }
   ],
   "source": [
    "get=218\n",
    "\n",
    "get/250*100"
   ]
  }
 ],
 "metadata": {
  "kernelspec": {
   "display_name": "Python 3",
   "language": "python",
   "name": "python3"
  },
  "language_info": {
   "codemirror_mode": {
    "name": "ipython",
    "version": 3
   },
   "file_extension": ".py",
   "mimetype": "text/x-python",
   "name": "python",
   "nbconvert_exporter": "python",
   "pygments_lexer": "ipython3",
   "version": "3.8.3"
  }
 },
 "nbformat": 4,
 "nbformat_minor": 4
}

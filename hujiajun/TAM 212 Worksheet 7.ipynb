{
 "cells": [
  {
   "cell_type": "code",
   "execution_count": 1,
   "metadata": {},
   "outputs": [],
   "source": [
    "from math import *\n",
    "import numpy as np\n",
    "import sympy as sy"
   ]
  },
  {
   "cell_type": "code",
   "execution_count": 70,
   "metadata": {},
   "outputs": [
    {
     "name": "stdout",
     "output_type": "stream",
     "text": [
      "DAB 40.60129464500447\n",
      "c 1.7829447768121267\n",
      "ABD 6.2866538951679845\n",
      "DBC 90.43711550834553\n",
      "ABC 96.7237694035135\n",
      "theta_R* 25.158718226435518\n"
     ]
    }
   ],
   "source": [
    "r=6\n",
    "g=2\n",
    "l=3\n",
    "a=0.3\n",
    "b=0.3\n",
    "\n",
    "theta_L=atan(l/(r-g/2))\n",
    "theta_R=atan(l/(r+g/2))\n",
    "gama=atan(g/2/l)\n",
    "\n",
    "f=g-2*sin(gama)*a\n",
    "\n",
    "theta1=pi/2-gama-theta_L\n",
    "theta2=pi/2-gama-theta_R\n",
    "\n",
    "DAB=theta1\n",
    "c=sqrt(a*a+g*g-2*a*g*cos(DAB))\n",
    "ABD=acos((c*c+g*g-a*a)/(2*c*g))\n",
    "DBC=acos((c*c+b*b-f*f)/(2*c*b))\n",
    "ABC=ABD+DBC\n",
    "theta_R2=ABC-pi/2+gama\n",
    "\n",
    "print('DAB',DAB*180/pi)\n",
    "print('c',c)\n",
    "print('ABD',ABD*180/pi)\n",
    "print('DBC',DBC*180/pi)\n",
    "print('ABC',ABC*180/pi)\n",
    "print('theta_R*',theta_R2*180/pi)\n",
    "#(theta_L+gama)*180/pi\n"
   ]
  },
  {
   "cell_type": "code",
   "execution_count": 71,
   "metadata": {},
   "outputs": [
    {
     "data": {
      "text/plain": [
       "-1.9601277127873304"
      ]
     },
     "execution_count": 71,
     "metadata": {},
     "output_type": "execute_result"
    }
   ],
   "source": [
    "(theta_R-theta_R2)*180/pi"
   ]
  },
  {
   "cell_type": "code",
   "execution_count": 64,
   "metadata": {},
   "outputs": [
    {
     "name": "stdout",
     "output_type": "stream",
     "text": [
      "2.9154759474226504 3.8078865529319543 2.5 3.5\n"
     ]
    }
   ],
   "source": [
    "w=3/r\n",
    "r1=sqrt((0.5*g-r)**2+l**2)\n",
    "r2=sqrt((0.5*g+r)**2+l**2)\n",
    "r3=r-0.5*g\n",
    "r4=r+0.5*g\n",
    "\n",
    "print(r1*w,r2*w,r3*w,r4*w)"
   ]
  }
 ],
 "metadata": {
  "kernelspec": {
   "display_name": "Python 3",
   "language": "python",
   "name": "python3"
  },
  "language_info": {
   "codemirror_mode": {
    "name": "ipython",
    "version": 3
   },
   "file_extension": ".py",
   "mimetype": "text/x-python",
   "name": "python",
   "nbconvert_exporter": "python",
   "pygments_lexer": "ipython3",
   "version": "3.8.3"
  }
 },
 "nbformat": 4,
 "nbformat_minor": 4
}

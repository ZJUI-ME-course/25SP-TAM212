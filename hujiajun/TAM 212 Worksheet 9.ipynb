{
 "cells": [
  {
   "cell_type": "code",
   "execution_count": 1,
   "metadata": {},
   "outputs": [],
   "source": [
    "from math import *\n",
    "import numpy as np\n",
    "import sympy as sy\n",
    "from sympy import *"
   ]
  },
  {
   "cell_type": "code",
   "execution_count": 2,
   "metadata": {},
   "outputs": [
    {
     "data": {
      "text/latex": [
       "$\\displaystyle 32.3873112659029$"
      ],
      "text/plain": [
       "32.3873112659029"
      ]
     },
     "execution_count": 2,
     "metadata": {},
     "output_type": "execute_result"
    }
   ],
   "source": [
    "sqrt(2*9.8*48*0.97/0.87)"
   ]
  },
  {
   "cell_type": "code",
   "execution_count": 7,
   "metadata": {},
   "outputs": [
    {
     "data": {
      "text/latex": [
       "$\\displaystyle \\frac{15.1121408145901 i}{\\sqrt{\\cos{\\left(\\frac{1}{2} + \\frac{\\pi}{6} \\right)}}}$"
      ],
      "text/plain": [
       "15.1121408145901*I/sqrt(cos(1/2 + pi/6))"
      ]
     },
     "execution_count": 7,
     "metadata": {},
     "output_type": "execute_result"
    }
   ],
   "source": [
    "theta,v=sy.S('theta,v')\n",
    "g=9.81\n",
    "r=48\n",
    "\n",
    "h=0.87\n",
    "l=0.97\n",
    "m=1\n",
    "\n",
    "a=v**2/r\n",
    "equ=v-((a*cos(theta+sin(theta))/l+g*sin(theta))/sin(theta*r))**0.5\n",
    "\n",
    "sy.solve([equ],[v])[1][0].subs(theta,pi/6)"
   ]
  },
  {
   "cell_type": "code",
   "execution_count": null,
   "metadata": {},
   "outputs": [],
   "source": [
    "a=v**2/r\n",
    "F=m*a*cos(theta)+m*g*sin(theta)\n",
    "N1=(F*h/l+m*g*cos(theta)-m*a*sin(theta))/2\n",
    "N2=(F*h/l+m*g*cos(theta)+m*a*sin(theta))/2\n",
    "\n",
    "\n",
    "equN1=N1.subs(theta,pi/6)\n",
    "sy.solve([N1.subs(theta,pi/6)],[v])"
   ]
  }
 ],
 "metadata": {
  "kernelspec": {
   "display_name": "Python 3",
   "language": "python",
   "name": "python3"
  },
  "language_info": {
   "codemirror_mode": {
    "name": "ipython",
    "version": 3
   },
   "file_extension": ".py",
   "mimetype": "text/x-python",
   "name": "python",
   "nbconvert_exporter": "python",
   "pygments_lexer": "ipython3",
   "version": "3.8.3"
  }
 },
 "nbformat": 4,
 "nbformat_minor": 4
}

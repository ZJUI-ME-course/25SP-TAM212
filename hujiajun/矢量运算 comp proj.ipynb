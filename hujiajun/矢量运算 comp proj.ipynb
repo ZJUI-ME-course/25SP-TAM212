{
 "cells": [
  {
   "cell_type": "code",
   "execution_count": 3,
   "metadata": {},
   "outputs": [],
   "source": [
    "from math import *\n",
    "import numpy as np\n",
    "import sympy as sy\n",
    "from sympy import *"
   ]
  },
  {
   "cell_type": "code",
   "execution_count": 4,
   "metadata": {},
   "outputs": [
    {
     "name": "stdout",
     "output_type": "stream",
     "text": [
      "[1. 0. 0.] [0. 2. 0.]\n",
      "[1. 2. 3.] [2. 4. 3.]\n"
     ]
    },
    {
     "data": {
      "text/plain": [
       "array([0.86206897, 0.89655172, 2.06896552])"
      ]
     },
     "execution_count": 4,
     "metadata": {},
     "output_type": "execute_result"
    }
   ],
   "source": [
    "#自定义函数部分\n",
    "def m(a):\n",
    "    return np.linalg.norm(a)\n",
    "\n",
    "def n(a):\n",
    "    return a/m(a)\n",
    "\n",
    "def proj(a,b):\n",
    "    return b/np.linalg.norm(b)*(a*b/np.linalg.norm(b))\n",
    "\n",
    "def comp(a,b):\n",
    "    return a-proj(a,b)\n",
    "\n",
    "def convert(a):\n",
    "    n=a.shape\n",
    "    n=n[0]\n",
    "    b=np.zeros(n)\n",
    "    for i in range(n):\n",
    "        b[i]=float(a[i])\n",
    "    return b\n",
    "    \n",
    "#test data\n",
    "a=np.array([1,2,0])\n",
    "b=np.array([1,0,0])\n",
    "print(proj(a,b),comp(a,b))\n",
    "\n",
    "a=Matrix([1,2,3])\n",
    "b=Matrix([2,4,3])\n",
    "a=convert(a)\n",
    "b=convert(b)\n",
    "print(a,b)\n",
    "comp(a,b)"
   ]
  }
 ],
 "metadata": {
  "kernelspec": {
   "display_name": "Python 3",
   "language": "python",
   "name": "python3"
  },
  "language_info": {
   "codemirror_mode": {
    "name": "ipython",
    "version": 3
   },
   "file_extension": ".py",
   "mimetype": "text/x-python",
   "name": "python",
   "nbconvert_exporter": "python",
   "pygments_lexer": "ipython3",
   "version": "3.8.3"
  }
 },
 "nbformat": 4,
 "nbformat_minor": 4
}

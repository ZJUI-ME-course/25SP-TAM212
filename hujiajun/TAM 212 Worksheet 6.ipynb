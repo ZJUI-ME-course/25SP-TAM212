{
 "cells": [
  {
   "cell_type": "code",
   "execution_count": 1,
   "metadata": {},
   "outputs": [],
   "source": [
    "from math import *\n",
    "import numpy as np\n",
    "import sympy as sy"
   ]
  },
  {
   "cell_type": "code",
   "execution_count": 70,
   "metadata": {},
   "outputs": [
    {
     "data": {
      "text/plain": [
       "array([ 0., -0.,  1.])"
      ]
     },
     "execution_count": 70,
     "metadata": {},
     "output_type": "execute_result"
    }
   ],
   "source": [
    "R=9.21\n",
    "theta=70*pi/180\n",
    "H=6.66\n",
    "L=12.9\n",
    "g=9.81\n",
    "\n",
    "v0,t=sy.S('v0,t')\n",
    "\n",
    "x=v0*cos(theta)*t\n",
    "y=v0*sin(theta)*t-0.5*g*t**2\n",
    "\n",
    "equx=L-x\n",
    "equy=H-y\n",
    "\n",
    "ans=sy.solve([equx,equy],[v0,t])\n",
    "v0=ans[1][0]\n",
    "t_v=ans[1][1]\n",
    "\n",
    "thetaj=290*pi/180\n",
    "wj=thetaj/t_v\n",
    "k=1/R\n",
    "wr=v0/R\n",
    "\n",
    "t=sy.S('t')\n",
    "\n",
    "x=v0*cos(theta)*t\n",
    "y=v0*sin(theta)*t-0.5*g*t**2\n",
    "\n",
    "r=np.array([x,y,0])\n",
    "\n",
    "def n(a):\n",
    "    return a/np.linalg.norm(a)\n",
    "\n",
    "T=n(np.array([v0*cos(theta),v0*sin(theta),0]).astype(float).flatten())\n",
    "N=n(np.array([-v0*sin(theta),v0*cos(theta),0]).astype(float).flatten())\n",
    "\n",
    "np.cross(T,N)"
   ]
  },
  {
   "cell_type": "code",
   "execution_count": 71,
   "metadata": {},
   "outputs": [
    {
     "data": {
      "text/plain": [
       "array([0.34202014, 0.93969262, 0.        ])"
      ]
     },
     "execution_count": 71,
     "metadata": {},
     "output_type": "execute_result"
    }
   ],
   "source": [
    "T"
   ]
  }
 ],
 "metadata": {
  "kernelspec": {
   "display_name": "Python 3",
   "language": "python",
   "name": "python3"
  },
  "language_info": {
   "codemirror_mode": {
    "name": "ipython",
    "version": 3
   },
   "file_extension": ".py",
   "mimetype": "text/x-python",
   "name": "python",
   "nbconvert_exporter": "python",
   "pygments_lexer": "ipython3",
   "version": "3.8.3"
  }
 },
 "nbformat": 4,
 "nbformat_minor": 4
}

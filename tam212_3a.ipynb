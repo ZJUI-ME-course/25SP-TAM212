{
 "cells": [
  {
   "cell_type": "code",
   "execution_count": null,
   "metadata": {},
   "outputs": [],
   "source": [
    "# 1\n"
   ]
  },
  {
   "cell_type": "code",
   "execution_count": null,
   "metadata": {},
   "outputs": [],
   "source": [
    "# 2\n"
   ]
  },
  {
   "cell_type": "code",
   "execution_count": null,
   "metadata": {},
   "outputs": [],
   "source": [
    "# 3\n"
   ]
  },
  {
   "cell_type": "code",
   "execution_count": null,
   "metadata": {},
   "outputs": [],
   "source": [
    "# 4\n"
   ]
  },
  {
   "cell_type": "code",
   "execution_count": null,
   "metadata": {},
   "outputs": [],
   "source": [
    "# 5\n"
   ]
  },
  {
   "cell_type": "code",
   "execution_count": null,
   "metadata": {},
   "outputs": [],
   "source": [
    "# 6\n"
   ]
  },
  {
   "cell_type": "code",
   "execution_count": null,
   "metadata": {},
   "outputs": [
    {
     "name": "stdout",
     "output_type": "stream",
     "text": [
      "Matrix([[1], [-6*t - 1], [0]])\n",
      "Matrix([[0], [-6], [0]])\n",
      "[[t - 3]\n",
      " [-3*t**2 - t + 3]\n",
      " [0]]\n"
     ]
    }
   ],
   "source": [
    "# 7\n",
    "\n",
    "import numpy as np\n",
    "from sympy import *\n",
    "\n",
    "t = symbols('t', real = True)\n",
    "r = Matrix([t - 3, -3*t**2 - t + 3, 0])\n",
    "t_v = 3\n",
    "\n",
    "\n",
    "v=diff(r)\n",
    "print(v)\n",
    "a=diff(v)\n",
    "print(a)\n",
    "\n",
    "v_norm=sqrt(v[0]**2+v[1]**2+v[2]**2)\n",
    "et=v/v_norm\n",
    "en=diff(et)\n",
    "# print(en.subs(t,3).evalf())\n",
    "\n",
    "r_np=np.array(r.tolist())\n",
    "\n",
    "# 计算叉积\n",
    "# cross_product = np.cross(v_np, a_np)"
   ]
  },
  {
   "cell_type": "code",
   "execution_count": null,
   "metadata": {},
   "outputs": [],
   "source": []
  },
  {
   "cell_type": "code",
   "execution_count": null,
   "metadata": {},
   "outputs": [
    {
     "name": "stdout",
     "output_type": "stream",
     "text": [
      "8*cos(2*x)\n"
     ]
    }
   ],
   "source": [
    "# 8\n",
    "import numpy as np\n",
    "from sympy import *\n",
    "\n",
    "x = symbols('x', real = True)\n",
    "m = 8\n",
    "y = -2*cos(2*x)\n",
    "vx = 4\n",
    "g = -9.8\n",
    "x_v = 9\n",
    "\n",
    "\n",
    "dy_dx=diff(y,x)\n",
    "dy_dx_2=diff(dy_dx,x)\n",
    "print(dy_dx_2)\n"
   ]
  }
 ],
 "metadata": {
  "kernelspec": {
   "display_name": "Python 3",
   "language": "python",
   "name": "python3"
  },
  "language_info": {
   "codemirror_mode": {
    "name": "ipython",
    "version": 3
   },
   "file_extension": ".py",
   "mimetype": "text/x-python",
   "name": "python",
   "nbconvert_exporter": "python",
   "pygments_lexer": "ipython3",
   "version": "3.9.6"
  }
 },
 "nbformat": 4,
 "nbformat_minor": 2
}

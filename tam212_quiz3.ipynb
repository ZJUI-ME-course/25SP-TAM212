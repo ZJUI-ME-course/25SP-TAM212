{
 "cells": [
  {
   "cell_type": "code",
   "execution_count": null,
   "id": "3f5bb96d",
   "metadata": {},
   "outputs": [
    {
     "name": "stdout",
     "output_type": "stream",
     "text": [
      "Matrix([[-0.857492925712544], [-0.514495755427526], [0]])\n"
     ]
    }
   ],
   "source": [
    "# a7\n",
    "\n",
    "import numpy as np\n",
    "from sympy import *\n",
    "\n",
    "t = symbols('t', real = True)\n",
    "r = Matrix([3*t - 1, -t**2 + t - 1, 0])\n",
    "t_v = 3\n",
    "\n",
    "\n",
    "\n",
    "T=diff(r,t,1)/diff(r,t,1).norm()\n",
    "N=diff(T,t,1)/diff(T,t,1).norm()\n",
    "print(N.subs(t,t_v).evalf())\n",
    "\n",
    "\n",
    "\n"
   ]
  },
  {
   "cell_type": "code",
   "execution_count": 14,
   "id": "50c83322",
   "metadata": {},
   "outputs": [
    {
     "name": "stdout",
     "output_type": "stream",
     "text": [
      "27*cos(6)\n",
      "142.898390958240\n"
     ]
    }
   ],
   "source": [
    "# a8\n",
    "import numpy as np\n",
    "from sympy import *\n",
    "\n",
    "x = symbols('x', real = True)\n",
    "m = 4\n",
    "y = -3*cos(x)\n",
    "vx = 3\n",
    "g = -9.8\n",
    "x_v = 6\n",
    "\n",
    "\n",
    "\n",
    "ay=diff(y,x,2)*vx**2\n",
    "ay=ay.subs(x,x_v)\n",
    "print(ay)\n",
    "\n",
    "F=-m*g+m*ay\n",
    "print(F.evalf())"
   ]
  },
  {
   "cell_type": "code",
   "execution_count": null,
   "id": "cb8694db",
   "metadata": {},
   "outputs": [
    {
     "name": "stdout",
     "output_type": "stream",
     "text": [
      "45.5221443365754\n"
     ]
    }
   ],
   "source": [
    "# b2\n",
    "t = symbols('t', real = True)\n",
    "s = 3*t**2 + t - 2\n",
    "t_v = 3\n",
    "rho = 8\n",
    "\n",
    "at=diff(s,t,2).subs(t,t_v)\n",
    "an=diff(s,t,1).subs(t,t_v)**2/rho\n",
    "print(sqrt(at**2+an**2).evalf())"
   ]
  },
  {
   "cell_type": "code",
   "execution_count": null,
   "id": "fe9b1223",
   "metadata": {},
   "outputs": [
    {
     "name": "stdout",
     "output_type": "stream",
     "text": [
      "11603.8834878673\n",
      "440801.262575324\n",
      "37.9873912932867\n"
     ]
    }
   ],
   "source": [
    "# b4\n",
    "from sympy import *\n",
    "import numpy as np\n",
    "\n",
    "v = Matrix([0,76,4]) # in polar basis\n",
    "a = Matrix([-152,38,-10]) # in polar basis\n",
    "\n",
    "\n",
    "rho=1/(v.cross(a)/v.norm()**3).norm()\n",
    "\n",
    "print(rho.evalf())\n"
   ]
  },
  {
   "cell_type": "code",
   "execution_count": null,
   "id": "6f04e021",
   "metadata": {},
   "outputs": [
    {
     "name": "stdout",
     "output_type": "stream",
     "text": [
      "70.0927956355002\n"
     ]
    },
    {
     "data": {
      "text/latex": [
       "$\\displaystyle \\left[\\begin{matrix}10\\\\66\\\\0\\end{matrix}\\right]$"
      ],
      "text/plain": [
       "Matrix([\n",
       "[10],\n",
       "[66],\n",
       "[ 0]])"
      ]
     },
     "execution_count": 55,
     "metadata": {},
     "output_type": "execute_result"
    }
   ],
   "source": [
    "#b6\n",
    "import numpy as np\n",
    "from sympy import *\n",
    "\n",
    "t = symbols('t', real = True)\n",
    "r = Matrix([1 - 2*t**2, t**2 - 2*t - 2, 0])\n",
    "t_v = 2\n",
    "\n",
    "\n",
    "T=diff(r,t,1)/diff(r,t,1).norm()\n",
    "N=diff(T,t,1)/diff(T,t,1).norm()\n",
    "v=diff(r,t,1)\n",
    "a=diff(r,t,2)\n",
    "# 先t表示T,N R\n",
    "# 然后最后再代入\n",
    "\n",
    "T=T.subs(t,t_v)\n",
    "N=N.subs(t,t_v)\n",
    "v=v.subs(t,t_v)\n",
    "a=a.subs(t,t_v)\n",
    "r=r.subs(t,t_v)\n",
    "\n",
    "\n",
    "rho=1/(v.cross(a)/v.norm()**3).norm()\n",
    "\n",
    "print(rho.evalf())\n",
    "\n",
    "r+N*rho"
   ]
  },
  {
   "cell_type": "code",
   "execution_count": 62,
   "id": "79889ccc",
   "metadata": {},
   "outputs": [
    {
     "name": "stdout",
     "output_type": "stream",
     "text": [
      "0.462703929420231\n"
     ]
    }
   ],
   "source": [
    "# b5\n",
    "\n",
    "# at=0.5\n",
    "# a=4\n",
    "# an=sqrt(a**2-at**2)\n",
    "# v=2\n",
    "# r=v**2/an\n",
    "# print(r)\n",
    "theta=1\n",
    "at=1/4\n",
    "v=2\n",
    "a=at/cos(theta)\n",
    "print(a.evalf())"
   ]
  },
  {
   "cell_type": "code",
   "execution_count": 11,
   "id": "7cd507ba",
   "metadata": {},
   "outputs": [
    {
     "name": "stdout",
     "output_type": "stream",
     "text": [
      "26\n",
      "55.0038353911642\n",
      "81.0038353911642\n"
     ]
    }
   ],
   "source": [
    "# 3b7\n",
    "\n",
    "from sympy import *\n",
    "x0=6\n",
    "v0=20\n",
    "dt=1\n",
    "\n",
    "\n",
    "x=S('x')\n",
    "a=x**2+sin(0.8*x)\n",
    "x1=x0+v0*dt\n",
    "x1=x1\n",
    "\n",
    "v1=v0+a*dt \n",
    "v1=v1.subs(x,x0)\n",
    "print(x1)\n",
    "print(v1)\n",
    "\n",
    "x2=x1+v1*dt\n",
    "x2=x2.subs(x,x1)\n",
    "print(x2)\n"
   ]
  },
  {
   "cell_type": "code",
   "execution_count": null,
   "id": "e2a965b8",
   "metadata": {},
   "outputs": [],
   "source": [
    "# 1\n",
    "import numpy as np\n",
    "from sympy import *\n",
    "\n",
    "t = symbols('t', real = True)\n",
    "r = Matrix([-t, -2*t**2 - 1, 0])\n",
    "t_v = 1"
   ]
  }
 ],
 "metadata": {
  "kernelspec": {
   "display_name": "Python 3",
   "language": "python",
   "name": "python3"
  },
  "language_info": {
   "codemirror_mode": {
    "name": "ipython",
    "version": 3
   },
   "file_extension": ".py",
   "mimetype": "text/x-python",
   "name": "python",
   "nbconvert_exporter": "python",
   "pygments_lexer": "ipython3",
   "version": "3.9.6"
  }
 },
 "nbformat": 4,
 "nbformat_minor": 5
}

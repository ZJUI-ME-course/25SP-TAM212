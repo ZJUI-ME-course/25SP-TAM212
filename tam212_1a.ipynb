{
 "cells": [
  {
   "cell_type": "code",
   "execution_count": 2,
   "metadata": {},
   "outputs": [
    {
     "name": "stdout",
     "output_type": "stream",
     "text": [
      "-0.939692620785908 0.342020143325669 -0.342020143325669 -0.939692620785908\n"
     ]
    }
   ],
   "source": [
    "# 1\n",
    "tt=160\n",
    "\n",
    "from numpy import radians,sin,cos\n",
    "from sympy import *\n",
    "\n",
    "\n",
    "ux=cos(radians(tt))\n",
    "uy=sin(radians(tt))\n",
    "\n",
    "vx=cos(radians(tt+90))\n",
    "vy=sin(radians(tt+90))\n",
    "\n",
    "print(ux,uy,vx,vy)\n",
    "# -0.939692620785908 0.342020143325669 -0.342020143325669 -0.939692620785908\n"
   ]
  },
  {
   "cell_type": "code",
   "execution_count": null,
   "metadata": {},
   "outputs": [
    {
     "name": "stdout",
     "output_type": "stream",
     "text": [
      "45.0\n",
      "205.0\n",
      "-2.56342552822315 -1.19534495492048\n"
     ]
    }
   ],
   "source": [
    "# 2\n",
    "from numpy import degrees,atan,sqrt\n",
    "import numpy as np\n",
    "tt=70\n",
    "r = np.array([-2,  2,  0])\n",
    "\n",
    "\n",
    "rx=r[0]\n",
    "ry=r[1]\n",
    "R=sqrt(rx**2+ry**2)\n",
    "# from numpy import degrees,atan\n",
    "if rx>0:\n",
    "    ttr1=degrees(atan(ry/rx))\n",
    "else:\n",
    "\n",
    "    ttr1=-degrees(atan(ry/rx))\n",
    "\n",
    "print(ttr1)\n",
    "\n",
    "# ttr2=360-tt+ttr1\n",
    "ttr2=tt+180-ttr1\n",
    "# ttr2=tt+ttr1\n",
    "\n",
    "# print(ttr2)\n",
    "rx=cos(radians(ttr2))*R\n",
    "ry=sin(radians(ttr2))*R\n",
    "print(rx,ry)\n",
    "\n"
   ]
  },
  {
   "cell_type": "code",
   "execution_count": null,
   "metadata": {},
   "outputs": [],
   "source": [
    "# 3\n",
    "import numpy as np\n",
    "\n",
    "a = np.array([-3,  2,  0])\n",
    "c_dot_a = -9\n",
    "c_dot_b = 6\n"
   ]
  },
  {
   "cell_type": "code",
   "execution_count": null,
   "metadata": {},
   "outputs": [
    {
     "name": "stdout",
     "output_type": "stream",
     "text": [
      "45.0\n",
      "205.0\n",
      "-2.56342552822315 -1.19534495492048\n"
     ]
    }
   ],
   "source": [
    "# 2\n",
    "from numpy import degrees,atan,sqrt\n",
    "import numpy as np\n",
    "tt=70\n",
    "r = np.array([-2,  2,  0])\n",
    "\n",
    "\n",
    "rx=r[0]\n",
    "ry=r[1]\n",
    "R=sqrt(rx**2+ry**2)\n",
    "# from numpy import degrees,atan\n",
    "if rx>0:\n",
    "    ttr1=degrees(atan(ry/rx))\n",
    "else:\n",
    "\n",
    "    ttr1=-degrees(atan(ry/rx))\n",
    "\n",
    "print(ttr1)\n",
    "\n",
    "# ttr2=360-tt+ttr1\n",
    "ttr2=tt+180-ttr1\n",
    "# ttr2=tt+ttr1\n",
    "\n",
    "# print(ttr2)\n",
    "rx=cos(radians(ttr2))*R\n",
    "ry=sin(radians(ttr2))*R\n",
    "print(rx,ry)\n",
    "\n"
   ]
  },
  {
   "cell_type": "code",
   "execution_count": 114,
   "metadata": {},
   "outputs": [
    {
     "name": "stdout",
     "output_type": "stream",
     "text": [
      "{x: 3/10, y: 11/10}\n"
     ]
    }
   ],
   "source": [
    "# hw1-4\n",
    "\n",
    "import numpy as np\n",
    "from sympy import integrate as i\n",
    "from sympy import solve as o\n",
    "from sympy import S,sqrt,cos,sin,tan\n",
    "\n",
    "\n",
    "# ==============================\n",
    "# 在这里替换\n",
    "import numpy as np\n",
    "\n",
    "a = np.array([-2, -4,  0])\n",
    "c_dot_a = -5\n",
    "c_dot_b = -1\n",
    "# ==============================\n",
    "\n",
    "\n",
    "x=S('x')\n",
    "y=S('y')\n",
    "\n",
    "c=np.array([x,y,0])\n",
    "\n",
    "# b=np.array([a[1],-a[0],0])\n",
    "b=np.array([-a[1],a[0],0])\n",
    "\n",
    "\n",
    "q1=np.dot(a,c)-c_dot_a\n",
    "q2=np.dot(c,b)-c_dot_b\n",
    "\n",
    "print(o((q1,q2),(x,y)))\n",
    "\n",
    "\n",
    "from sympy import integrate as i\n"
   ]
  },
  {
   "cell_type": "code",
   "execution_count": null,
   "metadata": {},
   "outputs": [
    {
     "name": "stdout",
     "output_type": "stream",
     "text": [
      "2.22044604925031e-16 2.82842712474619\n"
     ]
    }
   ],
   "source": [
    "# hw1-5\n",
    "\n",
    "import numpy as np\n",
    "from numpy import sqrt,radians\n",
    "\n",
    "import numpy as np\n",
    "\n",
    "import numpy as np\n",
    "import numpy as np\n",
    "\n",
    "\n",
    "\n",
    "theta = 45 # in degrees\n",
    "rOQ = np.array([ 4, -2,  0])\n",
    "rQP = np.array([-2,  4,  0])\n",
    "\n",
    "\n",
    "\n",
    "rOP=rOQ+rQP\n",
    "\n",
    "\n",
    "\n",
    "cs=cos(radians(theta))\n",
    "sn=sin(radians(theta))\n",
    "# 可能是带sn的，可能是不带cs的\n",
    "cs=cos(radians(-theta))\n",
    "sn=sin(radians(-theta))\n",
    "# print(cs,sn)\n",
    "\n",
    "roqe=rOP[0]*cs+rOP[1]*sn\n",
    "roqt=-sn*rOP[0]+rOP[1]*cs\n",
    "\n",
    "\n",
    "print(roqe,roqt)\n"
   ]
  },
  {
   "cell_type": "code",
   "execution_count": null,
   "metadata": {},
   "outputs": [
    {
     "name": "stdout",
     "output_type": "stream",
     "text": [
      "[ 4.61538462 -6.92307692  0.        ]\n"
     ]
    }
   ],
   "source": [
    "# hw1-6\n",
    "import numpy as np\n",
    "\n",
    "Px = -9\n",
    "Py = -6\n",
    "v = np.array([ 3, -8,  0])\n",
    "\n",
    "P=np.array([Px,Py,0])\n",
    "p1=P/np.linalg.norm(P)\n",
    "ecos=p1[0]\n",
    "esin=p1[1]\n",
    "\n",
    "\n",
    "e=np.array([-esin,ecos,0])\n",
    "# print(np.dot(v,p1))\n",
    "projvp=np.dot(v,e)*e\n",
    "print(projvp)\n",
    "\n",
    "# ??????????方向反了\n",
    "\n"
   ]
  }
 ],
 "metadata": {
  "kernelspec": {
   "display_name": "Python 3",
   "language": "python",
   "name": "python3"
  },
  "language_info": {
   "codemirror_mode": {
    "name": "ipython",
    "version": 3
   },
   "file_extension": ".py",
   "mimetype": "text/x-python",
   "name": "python",
   "nbconvert_exporter": "python",
   "pygments_lexer": "ipython3",
   "version": "3.12.6"
  }
 },
 "nbformat": 4,
 "nbformat_minor": 2
}

{
 "cells": [
  {
   "cell_type": "code",
   "execution_count": 14,
   "id": "18094582",
   "metadata": {},
   "outputs": [
    {
     "data": {
      "text/plain": [
       "{r1x: -22, r1y: -77, r1z: 0}"
      ]
     },
     "execution_count": 14,
     "metadata": {},
     "output_type": "execute_result"
    }
   ],
   "source": [
    "# 5b.2\n",
    "\n",
    "\n",
    "\n",
    "r1x=S('r1x')\n",
    "r1y=S('r1y')\n",
    "r1z=S('r1z')\n",
    "r1=Matrix([r1x, r1y, r1z])\n",
    "\n",
    "r2x=S('r2x')\n",
    "r2y=S('r2y')\n",
    "r2z=S('r2z')\n",
    "r2=Matrix([r2x, r2y, r2z])\n",
    "\n",
    "r3x=S('r3x')\n",
    "r3y=S('r3y')\n",
    "r3z=S('r3z')\n",
    "\n",
    "r3=Matrix([r3x, r3y, r3z])\n",
    "\n",
    "\n",
    "##################################################\n",
    "\n",
    "from sympy import *\n",
    "\n",
    "m1 = 1\n",
    "m2 = 8\n",
    "m3 = 5\n",
    "r2 = Matrix([1, 7, 0])\n",
    "r3 = Matrix([ 0, -7,  0])\n",
    "rC = Matrix([-1, -4,  0])\n",
    "##################################################\n",
    "\n",
    "rc=(m1*r1+m2*r2+m3*r3)/(m1+m2+m3)\n",
    "\n",
    "q1=rc-rC\n",
    "\n",
    "value=1\n",
    "\n",
    "if value==1:\n",
    "    an=solve([q1[0],q1[1],q1[2]], [r1x,r1y,r1z])\n",
    "elif value==2:\n",
    "    an=solve([q1[0],q1[1],q1[2]], [r2x,r2y,r2z])\n",
    "elif value==3:\n",
    "    an=solve([q1[0],q1[1],q1[2]], [r3x,r3y,r3z])\n",
    "an\n"
   ]
  },
  {
   "cell_type": "code",
   "execution_count": 21,
   "id": "dd61f352",
   "metadata": {},
   "outputs": [
    {
     "data": {
      "text/latex": [
       "$\\displaystyle 3088.19477911647$"
      ],
      "text/plain": [
       "3088.19477911647"
      ]
     },
     "execution_count": 21,
     "metadata": {},
     "output_type": "execute_result"
    }
   ],
   "source": [
    "# 5b.3\n",
    "\n",
    "from sympy import *\n",
    "\n",
    "w = 2\n",
    "l1 = 5\n",
    "rho1 = 8\n",
    "l2 = 3\n",
    "rho2 = 5\n",
    "l3 = 7\n",
    "rho3 = 4\n",
    "#############################################\n",
    "\n",
    "x=S('x')\n",
    "\n",
    "I1=integrate(rho1*w*x**2,(x,0,l1))\n",
    "I2=integrate(rho2*w*x**2,(x,l1,l1+l2))\n",
    "I3=integrate(rho3*w*x**2,(x,l1+l2,l1+l2+l3))\n",
    "\n",
    "I_total = I1 + I2 + I3\n",
    "\n",
    "# 计算各段的质心位置\n",
    "# 质心位置相对于杆的起点\n",
    "x1 = l1 / 2\n",
    "x2 = l1 + l2 / 2\n",
    "x3 = l1 + l2 + l3 / 2\n",
    "\n",
    "\n",
    "m1 = rho1 * w * l1\n",
    "m2 = rho2 * w * l2\n",
    "m3 = rho3 * w * l3\n",
    "mtotal= m1 + m2 + m3\n",
    "\n",
    "x_com = (m1 * x1 + m2 * x2 + m3 * x3) / mtotal\n",
    "\n",
    "# 平行轴定理：将转动惯量转换为关于质心的转动惯量\n",
    "I_com = I_total - mtotal * x_com**2\n",
    "\n",
    "# 简化表达式\n",
    "I_com_simplified = simplify(I_com)\n",
    "\n",
    "I_com_simplified"
   ]
  },
  {
   "cell_type": "code",
   "execution_count": 68,
   "id": "eb8aea58",
   "metadata": {},
   "outputs": [
    {
     "data": {
      "text/plain": [
       "3088.1947791164657"
      ]
     },
     "execution_count": 68,
     "metadata": {},
     "output_type": "execute_result"
    }
   ],
   "source": [
    "from sympy import *\n",
    "\n",
    "w = 2\n",
    "l1 = 5\n",
    "rho1 = 8\n",
    "l2 = 3\n",
    "rho2 = 5\n",
    "l3 = 7\n",
    "rho3 = 4\n",
    "\n",
    "x = symbols('x')\n",
    "\n",
    "\n",
    "I1 = integrate(rho1 * w * x**2, (x, 0, l1))\n",
    "I2 = integrate(rho2 * w * x**2, (x, l1, l1 + l2))\n",
    "I3 = integrate(rho3 * w * x**2, (x, l1 + l2, l1 + l2 + l3))\n",
    "I = I1 + I2 + I3\n",
    "\n",
    "m=w*(integrate(rho1,(x,0,l1))+integrate(rho2,(x,l1,l1+l2))+integrate(rho3,(x,l1+l2,l1+l2+l3)))\n",
    "xbar=w*(integrate(x*rho1,(x,0,l1))+integrate(x*rho2,(x,l1,l1+l2))+integrate(x*rho3,(x,l1+l2,l1+l2+l3)))/m\n",
    "\n",
    "# 平行轴定理：将转动惯量转换为关于质心的转动惯量\n",
    "I_com = I_total - m * xbar**2\n",
    "float(I_com)\n",
    "\n"
   ]
  },
  {
   "cell_type": "code",
   "execution_count": 70,
   "id": "8267fced",
   "metadata": {},
   "outputs": [
    {
     "name": "stdout",
     "output_type": "stream",
     "text": [
      "转动惯量 I = 5711.01615248227 kg·m²\n"
     ]
    }
   ],
   "source": [
    "# 5b.5\n",
    "\n",
    "import numpy as np\n",
    "from sympy import *\n",
    "\n",
    "x, y = symbols('x, y')\n",
    "\n",
    "rho = 2\n",
    "y1 = -2*x**2 + 8*x - 9\n",
    "y2 = -x**2 + 2*x + 11\n",
    "x1 = -2\n",
    "x2 = -1\n",
    "##############################################################################\n",
    "\n",
    "\n",
    "S=integrate((y2-y1),(x,x1,x2))\n",
    "xbar=integrate(integrate(x,(y,y1,y2)),(x,x1,x2))/S\n",
    "ybar=integrate(integrate(y,(y,y1,y2)),(x,x1,x2))/S\n",
    "\n",
    "I = rho * integrate(integrate((x - xbar)**2 + (y - ybar)**2, (y, y1, y2)), (x, x1, x2))\n",
    "\n",
    "print(f\"转动惯量 I = {I.evalf()} kg·m²\")"
   ]
  },
  {
   "cell_type": "code",
   "execution_count": null,
   "id": "36fbfd8f",
   "metadata": {},
   "outputs": [],
   "source": [
    "# 5b.6\n",
    "from sympy import *\n",
    "\n",
    "m1 = 2.000\n",
    "m2 = 3.000\n",
    "I1 = 4.000\n",
    "I2 = 16.000\n",
    "rOP = Matrix([-2,  0,  0])\n",
    "rPQ = Matrix([ 0, -8,  0])\n",
    "omega1 = Matrix([ 0,  0, -2])\n",
    "omega2 = Matrix([0, 0, 0])\n",
    "vP = Matrix([0, 4, 0])\n",
    "vQ = Matrix([0, 4, 0])\n",
    "alpha2 = Matrix([0.000, 0.000, -1.000])\n",
    "M = Matrix([0.000, 0.000, -32.000])\n"
   ]
  }
 ],
 "metadata": {
  "kernelspec": {
   "display_name": "Python 3",
   "language": "python",
   "name": "python3"
  },
  "language_info": {
   "codemirror_mode": {
    "name": "ipython",
    "version": 3
   },
   "file_extension": ".py",
   "mimetype": "text/x-python",
   "name": "python",
   "nbconvert_exporter": "python",
   "pygments_lexer": "ipython3",
   "version": "3.9.6"
  }
 },
 "nbformat": 4,
 "nbformat_minor": 5
}

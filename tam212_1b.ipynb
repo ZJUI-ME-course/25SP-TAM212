{
 "cells": [
  {
   "cell_type": "code",
   "execution_count": 40,
   "metadata": {},
   "outputs": [
    {
     "name": "stdout",
     "output_type": "stream",
     "text": [
      "bx -0.17856259090263016\n",
      "by 2.9946811852232518\n"
     ]
    }
   ],
   "source": [
    "# 1\n",
    "from numpy import *\n",
    "import numpy as np\n",
    "\n",
    "a = np.array([ 2, -1,  0])\n",
    "bLength = 3.000\n",
    "theta = 2.094 # in radians\n",
    "\n",
    "ax=a[0]\n",
    "ay=a[1]\n",
    "tt1=degrees(arctan(ay/ax))\n",
    "\n",
    "tt2=tt1+degrees(theta)\n",
    "\n",
    "\n",
    "\n",
    "bx=bLength*cos(radians(tt2))\n",
    "by=bLength*sin(radians(tt2))\n",
    "print(\"bx\",bx)\n",
    "print(\"by\",by)\n",
    "\n",
    "\n"
   ]
  },
  {
   "cell_type": "code",
   "execution_count": null,
   "metadata": {},
   "outputs": [
    {
     "name": "stdout",
     "output_type": "stream",
     "text": [
      "2.45583363333164\n"
     ]
    }
   ],
   "source": [
    "# 2\n",
    "\n",
    "import numpy as np\n",
    "\n",
    "rij = np.array([4.064, 5.761])\n",
    "ruv = np.array([-6.521, -2.679])\n",
    "\n",
    "tt1=degrees(atan(rij[1]/rij[0]))\n",
    "\n",
    "tt2=degrees(atan(ruv[1]/ruv[0]))\n",
    "tt2=tt2+180\n",
    "\n",
    "print((360-tt2+tt1)/180*pi)\n",
    "\n"
   ]
  },
  {
   "cell_type": "code",
   "execution_count": null,
   "metadata": {},
   "outputs": [
    {
     "name": "stdout",
     "output_type": "stream",
     "text": [
      "26.2196032531717 18.504972288\n",
      "-7.71463096517166\n",
      "-73.5196032531717\n"
     ]
    }
   ],
   "source": []
  }
 ],
 "metadata": {
  "kernelspec": {
   "display_name": "Python 3",
   "language": "python",
   "name": "python3"
  },
  "language_info": {
   "name": "python",
   "version": "3.12.6"
  }
 },
 "nbformat": 4,
 "nbformat_minor": 2
}

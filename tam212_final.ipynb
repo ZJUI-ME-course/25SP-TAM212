{
 "cells": [
  {
   "cell_type": "code",
   "execution_count": null,
   "id": "32cccd1d",
   "metadata": {},
   "outputs": [
    {
     "name": "stdout",
     "output_type": "stream",
     "text": [
      "53/51\n",
      "86/17\n"
     ]
    },
    {
     "data": {
      "text/latex": [
       "$\\displaystyle 35890.9071895425$"
      ],
      "text/plain": [
       "35890.9071895425"
      ]
     },
     "execution_count": 6,
     "metadata": {},
     "output_type": "execute_result"
    }
   ],
   "source": [
    "# 1\n",
    "\n",
    "import numpy as np\n",
    "from sympy import *\n",
    "\n",
    "x, y = symbols('x, y')\n",
    "\n",
    "rho = 4\n",
    "y1 = 2*x**2 + 4*x - 19\n",
    "y2 = 2*x**2 + 8*x + 11\n",
    "x1 = 0\n",
    "x2 = 2\n",
    "\n",
    "\n",
    "A=abs(integrate((y1-y2),(x,x1,x2)))\n",
    "\n",
    "\n",
    "\n",
    "\n",
    "A=abs(integrate((y1-y2),(x,x1,x2)))\n",
    "\n",
    "xbar=integrate(x,(y,y1,y2),(x,x1,x2))/A\n",
    "print(xbar)\n",
    "\n",
    "ybar=integrate(y,(y,y1,y2),(x,x1,x2))/A\n",
    "print(ybar)\n",
    "\n",
    "I=rho*integrate((x-xbar)**2+(y-ybar)**2,(y,y1,y2),(x,x1,x2))\n",
    "I.evalf()\n"
   ]
  },
  {
   "cell_type": "code",
   "execution_count": null,
   "id": "cdf6bb9d",
   "metadata": {},
   "outputs": [],
   "source": []
  },
  {
   "cell_type": "code",
   "execution_count": 7,
   "id": "9469438e",
   "metadata": {},
   "outputs": [
    {
     "name": "stdout",
     "output_type": "stream",
     "text": [
      "-0.866025403784439\n",
      "0.500000000000000\n",
      "-0.500000000000000\n",
      "-0.866025403784439\n"
     ]
    }
   ],
   "source": [
    "# 1.1\n",
    "from sympy import *\n",
    "\n",
    "theta = 150 # in degrees\n",
    "tt=-theta/180*pi\n",
    "print(cos(tt).evalf())\n",
    "print(-sin(tt).evalf())\n",
    "print(sin(tt).evalf())\n",
    "print(cos(tt).evalf())\n"
   ]
  },
  {
   "cell_type": "code",
   "execution_count": 11,
   "id": "f5d90d07",
   "metadata": {},
   "outputs": [
    {
     "name": "stdout",
     "output_type": "stream",
     "text": [
      "-2.81766410561103 -0.246513666864878\n"
     ]
    }
   ],
   "source": [
    "# 1.2\n",
    "\n",
    "\n",
    "from sympy import *\n",
    "\n",
    "theta = 40 # in degrees\n",
    "r = Matrix([-2, -2,  0])\n",
    "tt=-theta/180*pi\n",
    "\n",
    "x2=cos(tt).evalf()*r[0]-sin(tt).evalf()*r[1]\n",
    "y2=sin(tt).evalf()*r[0]+cos(tt).evalf()*r[1]\n",
    "\n",
    "print(x2,y2)\n",
    "\n"
   ]
  },
  {
   "cell_type": "code",
   "execution_count": 12,
   "id": "999041f4",
   "metadata": {},
   "outputs": [
    {
     "data": {
      "text/plain": [
       "{cx: 2, cy: -1}"
      ]
     },
     "execution_count": 12,
     "metadata": {},
     "output_type": "execute_result"
    }
   ],
   "source": [
    "# 1.3\n",
    "from sympy import *\n",
    "a = Matrix([-2, -3,  0])\n",
    "c_dot_a = -1\n",
    "c_dot_b = -8\n",
    "\n",
    "cx,cy=S('cx,cy')\n",
    "c=Matrix([cx,cy,0])\n",
    "b=Matrix([-3,2,0])\n",
    "q1=a.dot(c)-c_dot_a\n",
    "q2=b.dot(c)-c_dot_b\n",
    "\n",
    "solve([q1,q2],[cx,cy])\n"
   ]
  },
  {
   "cell_type": "code",
   "execution_count": 15,
   "id": "709d713c",
   "metadata": {},
   "outputs": [
    {
     "name": "stdout",
     "output_type": "stream",
     "text": [
      "-2.82842712474619 1.41421356237310\n"
     ]
    }
   ],
   "source": [
    "# 1.4\n",
    "from sympy import *\n",
    "\n",
    "theta = 135 # in degrees\n",
    "rOQ = Matrix([3, 1, 0])\n",
    "rQP = Matrix([-2, -4,  0])\n",
    "\n",
    "rOP=rOQ+rQP\n",
    "tt=theta/180*pi\n",
    "\n",
    "x2=cos(tt)*rOP[0]+sin(tt)*rOP[1]\n",
    "y2=-sin(tt)*rOP[0]+cos(tt)*rOP[1]\n",
    "print(x2.evalf(),y2.evalf())"
   ]
  },
  {
   "cell_type": "code",
   "execution_count": null,
   "id": "f6d1a436",
   "metadata": {},
   "outputs": [
    {
     "name": "stdout",
     "output_type": "stream",
     "text": [
      "Matrix([[-56/65], [98/65], [0]])\n"
     ]
    }
   ],
   "source": [
    "# 1.5\n",
    "from sympy import *\n",
    "\n",
    "Px = 7\n",
    "Py = 4\n",
    "v = Matrix([7, 6, 0])\n",
    "P=Matrix([Px,Py,0])\n",
    "\n",
    "rcos=Px/P.norm()\n",
    "rsin=Py/P.norm()\n",
    "\n",
    "\n",
    "\n",
    "fu_et=Matrix([rsin,-rcos,0])\n",
    "proj=fu_et.dot(v)*fu_et\n",
    "\n",
    "print(proj)"
   ]
  },
  {
   "cell_type": "code",
   "execution_count": null,
   "id": "c740a10b",
   "metadata": {},
   "outputs": [
    {
     "name": "stdout",
     "output_type": "stream",
     "text": [
      "Matrix([[-1.10230458463210], [2.79014777434799], [0]])\n"
     ]
    }
   ],
   "source": [
    "# 1b.5\n",
    "from sympy import *\n",
    "\n",
    "a = Matrix([1, 3, 0])\n",
    "bLength = 3.000\n",
    "theta = 0.698 # in radians\n",
    "\n",
    "\n",
    "a=a/a.norm()\n",
    "\n",
    "\n",
    "x2=cos(theta)*a[0]-sin(theta)*a[1]\n",
    "y2=sin(theta)*a[0]+cos(theta)*a[1]\n",
    "\n",
    "b=Matrix([bLength*x2,bLength*y2,0])\n",
    "print(b.evalf())\n"
   ]
  },
  {
   "cell_type": "code",
   "execution_count": null,
   "id": "8e1beceb",
   "metadata": {},
   "outputs": [
    {
     "name": "stdout",
     "output_type": "stream",
     "text": [
      "[-2.57507991915538, -1.79523879507394]\n",
      "[1.58244755176835, 4.70073775541123]\n"
     ]
    }
   ],
   "source": [
    "from sympy import *\n",
    "\n",
    "rij = Matrix([4.064, 5.761])\n",
    "ruv = Matrix([-6.521, -2.679])\n",
    "\n",
    "tt=S(\"tt\")\n",
    "\n",
    "M=Matrix([[cos(tt),sin(tt)],[-sin(theta),cos(tt)]])\n",
    "\n",
    "q1=(M*rij)[0]-ruv[0]\n",
    "q2=(M*rij)[1]-ruv[1]\n",
    "\n",
    "print(solve(q1))\n",
    "print(solve(q2))\n",
    "\n"
   ]
  },
  {
   "cell_type": "code",
   "execution_count": null,
   "id": "91533a7e",
   "metadata": {},
   "outputs": [
    {
     "name": "stdout",
     "output_type": "stream",
     "text": [
      "Matrix([[0], [8], [0]])\n"
     ]
    }
   ],
   "source": [
    "# 2.2\n",
    "\n",
    "from sympy import *\n",
    "\n",
    "x = -3\n",
    "y = 0\n",
    "z = 2\n",
    "omega = Matrix([-1,  0, -2])\n",
    "r=Matrix([x,y,z])\n",
    "v=omega.cross(r)\n",
    "print(v)"
   ]
  },
  {
   "cell_type": "code",
   "execution_count": null,
   "id": "bc2751a1",
   "metadata": {},
   "outputs": [
    {
     "data": {
      "text/latex": [
       "$\\displaystyle -5.0$"
      ],
      "text/plain": [
       "-5.00000000000000"
      ]
     },
     "execution_count": 34,
     "metadata": {},
     "output_type": "execute_result"
    }
   ],
   "source": [
    "# 2.4\n",
    "from sympy import *\n",
    "import numpy as np\n",
    "\n",
    "x = symbols('x')\n",
    "y = -sin(0.5*x)\n",
    "vx = -10\n",
    "x_v = 2*np.pi\n",
    "\n",
    "v=y.diff(x,1)\n",
    "v0=vx*v.subs(x,x_v)\n",
    "v0.evalf()\n",
    "\n",
    "\n"
   ]
  },
  {
   "cell_type": "code",
   "execution_count": 36,
   "id": "753f5809",
   "metadata": {},
   "outputs": [
    {
     "data": {
      "text/plain": [
       "{rx: 3/5, ry: -1/5}"
      ]
     },
     "execution_count": 36,
     "metadata": {},
     "output_type": "execute_result"
    }
   ],
   "source": [
    "# 2.5\n",
    "from sympy import *\n",
    "\n",
    "v = Matrix([1, 3, 0])\n",
    "omegaz = 5\n",
    "\n",
    "omega=Matrix([0,0,omegaz])\n",
    "rx,ry=S('rx,ry')\n",
    "\n",
    "r=Matrix([rx,ry,0])\n",
    "v0=omega.cross(r)\n",
    "solve(v0-v)"
   ]
  },
  {
   "cell_type": "code",
   "execution_count": null,
   "id": "4b48e72f",
   "metadata": {},
   "outputs": [
    {
     "data": {
      "text/latex": [
       "$\\displaystyle 16$"
      ],
      "text/plain": [
       "16"
      ]
     },
     "execution_count": 40,
     "metadata": {},
     "output_type": "execute_result"
    }
   ],
   "source": [
    "# 2.6\n",
    "import numpy as np\n",
    "from sympy import *\n",
    "\n",
    "x = symbols('x')\n",
    "y = sin(2*x)\n",
    "vxMag = 2\n",
    "\n",
    "ay=y.diff(x,2)*vxMag**2\n",
    "\n",
    "ay.subs(x,3/4*pi)"
   ]
  },
  {
   "cell_type": "code",
   "execution_count": null,
   "id": "539c7b9b",
   "metadata": {},
   "outputs": [],
   "source": [
    "# 2.7\n",
    "theta = symbols('theta')\n",
    "\n",
    "r = 4 - 2*cos(5*theta - 3)\n",
    "theta_v = -4 # in radians\n",
    "omegaz = 3\n",
    "\n",
    "\n"
   ]
  },
  {
   "cell_type": "code",
   "execution_count": null,
   "id": "9194affc",
   "metadata": {},
   "outputs": [
    {
     "name": "stdout",
     "output_type": "stream",
     "text": [
      "Matrix([[144.725814567003], [82.2627339397750], [0]])\n"
     ]
    }
   ],
   "source": [
    "# 2.10\n",
    "\n",
    "import numpy as np\n",
    "from sympy import *\n",
    "\n",
    "theta = symbols('theta')\n",
    "\n",
    "r = 2*cos(5*theta - 2) + 3\n",
    "theta_v = 4 # in radians\n",
    "omegaz = -2\n",
    "alphaz = -1\n",
    "\n",
    "r=Matrix([r*cos(theta),r*sin(theta),0])\n",
    "a=r.diff(theta,2)*omegaz**2+r.diff(theta,1)*alphaz\n",
    "a1=a.subs(theta,theta_v)\n",
    "print(a1.evalf())"
   ]
  },
  {
   "cell_type": "code",
   "execution_count": 48,
   "id": "de9e804b",
   "metadata": {},
   "outputs": [
    {
     "data": {
      "text/plain": [
       "15.75"
      ]
     },
     "execution_count": 48,
     "metadata": {},
     "output_type": "execute_result"
    }
   ],
   "source": [
    "# 3a.1\n",
    "from sympy import *\n",
    "\n",
    "v = 4\n",
    "F = 7\n",
    "rho = 36\n",
    "\n",
    "m=F/v**2*rho\n",
    "\n",
    "m"
   ]
  },
  {
   "cell_type": "code",
   "execution_count": null,
   "id": "1d5e01e6",
   "metadata": {},
   "outputs": [],
   "source": [
    "# 3b.2\n",
    "import numpy as np\n",
    "from sympy import *\n",
    "\n",
    "t = symbols('t', real = True)\n",
    "s = -3*t**2 - t + 1\n",
    "t_v = 1\n",
    "rho = 3\n",
    "\n"
   ]
  },
  {
   "cell_type": "code",
   "execution_count": null,
   "id": "ff615126",
   "metadata": {},
   "outputs": [
    {
     "name": "stdout",
     "output_type": "stream",
     "text": [
      "Matrix([[-135.000000000000], [-258.500000000000], [0]])\n"
     ]
    }
   ],
   "source": [
    "# 3b.6\n",
    "import numpy as np\n",
    "from sympy import *\n",
    "\n",
    "t = symbols('t', real = True)\n",
    "r = Matrix([-3*t**2 - t + 2, t**2 + 2*t, 0])\n",
    "t_v = 2\n",
    "\n",
    "T=r.diff(t,1)/r.diff(t,1).norm()\n",
    "N=T.diff(t,1)/T.diff(t,1).norm()\n",
    "N=N.subs(t,t_v)\n",
    "\n",
    "a=r.diff(t,2)\n",
    "v=r.diff(t,1)\n",
    "a=a.subs(t,t_v)\n",
    "v=v.subs(t,t_v)\n",
    "\n",
    "decimal=a.cross(v)\n",
    "rho=v.norm()**3/(decimal.norm())\n",
    "\n",
    "r2=r.subs(t,t_v)+N*rho\n",
    "\n",
    "print(r2.evalf())"
   ]
  },
  {
   "cell_type": "code",
   "execution_count": null,
   "id": "b0b6dcb2",
   "metadata": {},
   "outputs": [
    {
     "name": "stdout",
     "output_type": "stream",
     "text": [
      "Matrix([[0.0837290619707561], [-0.996488556974689], [0]])\n",
      "Matrix([[-0.996488556974689], [-0.0837290619707561], [0]])\n",
      "Matrix([[-0.0945073612668664], [0.995582919992320], [0]])\n",
      "Matrix([[-0.567044167601198], [64.7734975199539], [0]])\n"
     ]
    }
   ],
   "source": [
    "# 3b.7\n",
    "import numpy as np\n",
    "from sympy import *\n",
    "\n",
    "x = symbols('x', real = True)\n",
    "\n",
    "m = 6\n",
    "y = -4*cos(3*x)\n",
    "g = -9.8\n",
    "x_v = 12\n",
    "vMag = 2\n",
    "vDotMag = 1\n",
    "\n",
    "d1=1\n",
    "d2=-1\n",
    "\n",
    "g=9.8\n",
    "\n",
    "################ 1算rho\n",
    "y2=y.diff(x,2)\n",
    "y1=y.diff(x,1)\n",
    "y2=y2.subs(x,x_v)\n",
    "y1=y1.subs(x,x_v)\n",
    "\n",
    "# 需要加一个abs\n",
    "rho=abs((1+y1**2)**(3/2)/y2)\n",
    "\n",
    "################# 2算et en\n",
    "r=Matrix([x,y,0])\n",
    "T=d1*r.diff(x,1)/r.diff(x,1).norm()\n",
    "N=T.diff(x,1)/T.diff(x,1).norm()\n",
    "T=T.subs(x,x_v)\n",
    "N=N.subs(x,x_v)\n",
    "\n",
    "print(T.evalf())\n",
    "print(N.evalf())\n",
    "\n",
    "############## 3写a的式子\n",
    "a=T*d2*vDotMag+vMag**2/rho*N\n",
    "print(a.evalf())\n",
    "\n",
    "\n",
    "F=m*a+Matrix([0,m*g,0])\n",
    "\n",
    "print(F.evalf())"
   ]
  },
  {
   "cell_type": "code",
   "execution_count": null,
   "id": "d4de2e5e",
   "metadata": {},
   "outputs": [
    {
     "name": "stdout",
     "output_type": "stream",
     "text": [
      "-9/2 -17/2\n"
     ]
    }
   ],
   "source": [
    "# q14\n",
    "\n",
    "from sympy import *\n",
    "\n",
    "rP = Matrix([ 0, -1,  0])\n",
    "vP = Matrix([-16,   4,   0])\n",
    "rQ = Matrix([3, 4, 0])\n",
    "vQ = Matrix([-36,  16,   0])\n",
    "\n",
    "\n",
    "# vP=rP+vP\n",
    "# vQ=rQ+vQ\n",
    "\n",
    "# x=S('x')\n",
    "# y1=(vP[1]-vQ[1])/(vP[0]-vQ[0])*(x-vP[0])+vP[1]\n",
    "# y2=(rP[1]-rQ[1])/(rP[0]-rQ[0])*(x-rP[0])+rP[1]\n",
    "\n",
    "\n",
    "# q1=y1-y2\n",
    "# x=solve(q1,x)[0]\n",
    "# y=(vP[1]-vQ[1])/(vP[0]-vQ[0])*(x-vP[0])+vP[1]\n",
    "# print(x,y)\n",
    "\n"
   ]
  },
  {
   "cell_type": "code",
   "execution_count": 75,
   "id": "be28e4e8",
   "metadata": {},
   "outputs": [
    {
     "name": "stdout",
     "output_type": "stream",
     "text": [
      "-1 -5\n"
     ]
    }
   ],
   "source": [
    "\n",
    "rP = Matrix([ 0, -1,  0])\n",
    "vP = Matrix([-16,   4,   0])\n",
    "rQ = Matrix([3, 4, 0])\n",
    "vQ = Matrix([-36,  16,   0])\n",
    "x=S('x')\n",
    "y1=-vP[0]/vP[1]*(x-rP[0])+rP[1]\n",
    "y2=-vQ[0]/vQ[1]*(x-rQ[0])+rQ[1]\n",
    "\n",
    "q1=y1-y2\n",
    "x=solve(q1,x)[0]\n",
    "\n",
    "\n",
    "\n",
    "y=-vP[0]/vP[1]*(x-rP[0])+rP[1]\n",
    "\n",
    "print(x,y)"
   ]
  },
  {
   "cell_type": "code",
   "execution_count": null,
   "id": "0359b72a",
   "metadata": {},
   "outputs": [
    {
     "data": {
      "text/plain": [
       "0.13899999999999998"
      ]
     },
     "execution_count": 59,
     "metadata": {},
     "output_type": "execute_result"
    }
   ],
   "source": [
    "(7-(2.5*0.7+40*0.027))/30\n",
    "\n"
   ]
  },
  {
   "cell_type": "code",
   "execution_count": 82,
   "id": "5b658e80",
   "metadata": {},
   "outputs": [
    {
     "name": "stdout",
     "output_type": "stream",
     "text": [
      "{w1: -15/7, w3: -9/7}\n"
     ]
    }
   ],
   "source": [
    "# 19\n",
    "from sympy import *\n",
    "\n",
    "rAB = Matrix([2, 0, 0])\n",
    "rBC = Matrix([1, 1, 0])\n",
    "rAD = Matrix([-1,  2,  0])\n",
    "rDC = Matrix([ 4, -1,  0])\n",
    "omega2 = Matrix([ 0,  0, -3])\n",
    "rCB=-rBC\n",
    "\n",
    "a1,a2,a3,w1,w3=S('a1,a2,a3,w1,w3')\n",
    "omega1=Matrix([0,0,w1])\n",
    "omega3=Matrix([0,0,w3])\n",
    "alpha1=Matrix([0,0,a1])\n",
    "alpha2=Matrix([0,0,a2])\n",
    "alpha3=Matrix([0,0,a3])\n",
    "\n",
    "\n",
    "\n",
    "aB=alpha1.cross(rAD)+omega1.cross(omega1.cross(rAD))+omega2.cross(omega2.cross(rDC))+alpha2.cross(rDC)+alpha3.cross(rCB)+omega3.cross(omega3.cross(rCB))\n",
    "\n",
    "vB=omega1.cross(rAD)+omega3.cross(rDC)-omega2.cross(rBC)\n",
    "# print(vB)\n",
    "q1=solve(vB)\n",
    "\n",
    "print(q1)\n"
   ]
  },
  {
   "cell_type": "code",
   "execution_count": 84,
   "id": "2b092129",
   "metadata": {},
   "outputs": [
    {
     "data": {
      "text/plain": [
       "{w: -2}"
      ]
     },
     "execution_count": 84,
     "metadata": {},
     "output_type": "execute_result"
    }
   ],
   "source": [
    "# 17\n",
    "from sympy import *\n",
    "\n",
    "rCQ = Matrix([  9, -12,   0])\n",
    "vQ = Matrix([  6, -18,   0])\n",
    "\n",
    "R=rCQ.norm()\n",
    "rOC=Matrix([0,R,0])\n",
    "w=S(\"w\")\n",
    "omega=Matrix([0,0,w])\n",
    "vq=omega.cross(rOC)+omega.cross(rCQ)\n",
    "\n",
    "solve(vq-vQ)\n"
   ]
  },
  {
   "cell_type": "code",
   "execution_count": null,
   "id": "05fe5263",
   "metadata": {},
   "outputs": [],
   "source": [
    "# "
   ]
  }
 ],
 "metadata": {
  "kernelspec": {
   "display_name": "Python 3",
   "language": "python",
   "name": "python3"
  },
  "language_info": {
   "codemirror_mode": {
    "name": "ipython",
    "version": 3
   },
   "file_extension": ".py",
   "mimetype": "text/x-python",
   "name": "python",
   "nbconvert_exporter": "python",
   "pygments_lexer": "ipython3",
   "version": "3.9.6"
  }
 },
 "nbformat": 4,
 "nbformat_minor": 5
}

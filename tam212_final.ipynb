{
 "cells": [
  {
   "cell_type": "code",
   "execution_count": 6,
   "id": "32cccd1d",
   "metadata": {},
   "outputs": [
    {
     "name": "stdout",
     "output_type": "stream",
     "text": [
      "53/51\n",
      "86/17\n"
     ]
    },
    {
     "data": {
      "text/latex": [
       "$\\displaystyle 35890.9071895425$"
      ],
      "text/plain": [
       "35890.9071895425"
      ]
     },
     "execution_count": 6,
     "metadata": {},
     "output_type": "execute_result"
    }
   ],
   "source": [
    "# 1\n",
    "\n",
    "import numpy as np\n",
    "from sympy import *\n",
    "\n",
    "x, y = symbols('x, y')\n",
    "\n",
    "rho = 4\n",
    "y1 = 2*x**2 + 4*x - 19\n",
    "y2 = 2*x**2 + 8*x + 11\n",
    "x1 = 0\n",
    "x2 = 2\n",
    "\n",
    "\n",
    "A=abs(integrate((y1-y2),(x,x1,x2)))\n",
    "\n",
    "\n",
    "\n",
    "\n",
    "A=abs(integrate((y1-y2),(x,x1,x2)))\n",
    "\n",
    "xbar=integrate(x,(y,y1,y2),(x,x1,x2))/A\n",
    "print(xbar)\n",
    "\n",
    "ybar=integrate(y,(y,y1,y2),(x,x1,x2))/A\n",
    "print(ybar)\n",
    "\n",
    "I=rho*integrate((x-xbar)**2+(y-ybar)**2,(y,y1,y2),(x,x1,x2))\n",
    "I.evalf()\n"
   ]
  },
  {
   "cell_type": "code",
   "execution_count": null,
   "id": "cdf6bb9d",
   "metadata": {},
   "outputs": [],
   "source": []
  },
  {
   "cell_type": "code",
   "execution_count": 7,
   "id": "9469438e",
   "metadata": {},
   "outputs": [
    {
     "name": "stdout",
     "output_type": "stream",
     "text": [
      "-0.866025403784439\n",
      "0.500000000000000\n",
      "-0.500000000000000\n",
      "-0.866025403784439\n"
     ]
    }
   ],
   "source": [
    "# 1.1\n",
    "from sympy import *\n",
    "\n",
    "theta = 150 # in degrees\n",
    "tt=-theta/180*pi\n",
    "print(cos(tt).evalf())\n",
    "print(-sin(tt).evalf())\n",
    "print(sin(tt).evalf())\n",
    "print(cos(tt).evalf())\n"
   ]
  },
  {
   "cell_type": "code",
   "execution_count": 11,
   "id": "f5d90d07",
   "metadata": {},
   "outputs": [
    {
     "name": "stdout",
     "output_type": "stream",
     "text": [
      "-2.81766410561103 -0.246513666864878\n"
     ]
    }
   ],
   "source": [
    "# 1.2\n",
    "\n",
    "\n",
    "from sympy import *\n",
    "\n",
    "theta = 40 # in degrees\n",
    "r = Matrix([-2, -2,  0])\n",
    "tt=-theta/180*pi\n",
    "\n",
    "x2=cos(tt).evalf()*r[0]-sin(tt).evalf()*r[1]\n",
    "y2=sin(tt).evalf()*r[0]+cos(tt).evalf()*r[1]\n",
    "\n",
    "print(x2,y2)\n",
    "\n"
   ]
  },
  {
   "cell_type": "code",
   "execution_count": 12,
   "id": "999041f4",
   "metadata": {},
   "outputs": [
    {
     "data": {
      "text/plain": [
       "{cx: 2, cy: -1}"
      ]
     },
     "execution_count": 12,
     "metadata": {},
     "output_type": "execute_result"
    }
   ],
   "source": [
    "# 1.3\n",
    "from sympy import *\n",
    "a = Matrix([-2, -3,  0])\n",
    "c_dot_a = -1\n",
    "c_dot_b = -8\n",
    "\n",
    "cx,cy=S('cx,cy')\n",
    "c=Matrix([cx,cy,0])\n",
    "b=Matrix([-3,2,0])\n",
    "q1=a.dot(c)-c_dot_a\n",
    "q2=b.dot(c)-c_dot_b\n",
    "\n",
    "solve([q1,q2],[cx,cy])\n"
   ]
  },
  {
   "cell_type": "code",
   "execution_count": 15,
   "id": "709d713c",
   "metadata": {},
   "outputs": [
    {
     "name": "stdout",
     "output_type": "stream",
     "text": [
      "-2.82842712474619 1.41421356237310\n"
     ]
    }
   ],
   "source": [
    "# 1.4\n",
    "from sympy import *\n",
    "\n",
    "theta = 135 # in degrees\n",
    "rOQ = Matrix([3, 1, 0])\n",
    "rQP = Matrix([-2, -4,  0])\n",
    "\n",
    "rOP=rOQ+rQP\n",
    "tt=theta/180*pi\n",
    "\n",
    "x2=cos(tt)*rOP[0]+sin(tt)*rOP[1]\n",
    "y2=-sin(tt)*rOP[0]+cos(tt)*rOP[1]\n",
    "print(x2.evalf(),y2.evalf())"
   ]
  },
  {
   "cell_type": "code",
   "execution_count": 16,
   "id": "f6d1a436",
   "metadata": {},
   "outputs": [
    {
     "name": "stdout",
     "output_type": "stream",
     "text": [
      "Matrix([[-56/65], [98/65], [0]])\n"
     ]
    }
   ],
   "source": [
    "# 1.5\n",
    "from sympy import *\n",
    "\n",
    "Px = 7\n",
    "Py = 4\n",
    "v = Matrix([7, 6, 0])\n",
    "P=Matrix([Px,Py,0])\n",
    "\n",
    "rcos=Px/P.norm()\n",
    "rsin=Py/P.norm()\n",
    "\n",
    "\n",
    "\n",
    "fu_et=Matrix([rsin,-rcos,0])\n",
    "proj=fu_et.dot(v)*fu_et\n",
    "\n",
    "print(proj)"
   ]
  },
  {
   "cell_type": "code",
   "execution_count": 17,
   "id": "c740a10b",
   "metadata": {},
   "outputs": [
    {
     "name": "stdout",
     "output_type": "stream",
     "text": [
      "Matrix([[-1.10230458463210], [2.79014777434799], [0]])\n"
     ]
    }
   ],
   "source": [
    "# 1b.5\n",
    "from sympy import *\n",
    "\n",
    "a = Matrix([1, 3, 0])\n",
    "bLength = 3.000\n",
    "theta = 0.698 # in radians\n",
    "\n",
    "\n",
    "a=a/a.norm()\n",
    "\n",
    "\n",
    "x2=cos(theta)*a[0]-sin(theta)*a[1]\n",
    "y2=sin(theta)*a[0]+cos(theta)*a[1]\n",
    "\n",
    "b=Matrix([bLength*x2,bLength*y2,0])\n",
    "print(b.evalf())\n"
   ]
  },
  {
   "cell_type": "code",
   "execution_count": 26,
   "id": "8e1beceb",
   "metadata": {},
   "outputs": [
    {
     "name": "stdout",
     "output_type": "stream",
     "text": [
      "[-2.57507991915538, -1.79523879507394]\n",
      "[1.58244755176835, 4.70073775541123]\n"
     ]
    }
   ],
   "source": [
    "from sympy import *\n",
    "\n",
    "rij = Matrix([4.064, 5.761])\n",
    "ruv = Matrix([-6.521, -2.679])\n",
    "\n",
    "tt=S(\"tt\")\n",
    "\n",
    "M=Matrix([[cos(tt),sin(tt)],[-sin(theta),cos(tt)]])\n",
    "\n",
    "q1=(M*rij)[0]-ruv[0]\n",
    "q2=(M*rij)[1]-ruv[1]\n",
    "\n",
    "print(solve(q1))\n",
    "print(solve(q2))\n",
    "\n"
   ]
  },
  {
   "cell_type": "code",
   "execution_count": 27,
   "id": "91533a7e",
   "metadata": {},
   "outputs": [
    {
     "name": "stdout",
     "output_type": "stream",
     "text": [
      "Matrix([[0], [8], [0]])\n"
     ]
    }
   ],
   "source": [
    "# 2.2\n",
    "\n",
    "from sympy import *\n",
    "\n",
    "x = -3\n",
    "y = 0\n",
    "z = 2\n",
    "omega = Matrix([-1,  0, -2])\n",
    "r=Matrix([x,y,z])\n",
    "v=omega.cross(r)\n",
    "print(v)"
   ]
  },
  {
   "cell_type": "code",
   "execution_count": 34,
   "id": "bc2751a1",
   "metadata": {},
   "outputs": [
    {
     "data": {
      "text/latex": [
       "$\\displaystyle -5.0$"
      ],
      "text/plain": [
       "-5.00000000000000"
      ]
     },
     "execution_count": 34,
     "metadata": {},
     "output_type": "execute_result"
    }
   ],
   "source": [
    "# 2.4\n",
    "from sympy import *\n",
    "import numpy as np\n",
    "\n",
    "x = symbols('x')\n",
    "y = -sin(0.5*x)\n",
    "vx = -10\n",
    "x_v = 2*np.pi\n",
    "\n",
    "v=y.diff(x,1)\n",
    "v0=vx*v.subs(x,x_v)\n",
    "v0.evalf()\n",
    "\n",
    "\n"
   ]
  },
  {
   "cell_type": "code",
   "execution_count": 36,
   "id": "753f5809",
   "metadata": {},
   "outputs": [
    {
     "data": {
      "text/plain": [
       "{rx: 3/5, ry: -1/5}"
      ]
     },
     "execution_count": 36,
     "metadata": {},
     "output_type": "execute_result"
    }
   ],
   "source": [
    "# 2.5\n",
    "from sympy import *\n",
    "\n",
    "v = Matrix([1, 3, 0])\n",
    "omegaz = 5\n",
    "\n",
    "omega=Matrix([0,0,omegaz])\n",
    "rx,ry=S('rx,ry')\n",
    "\n",
    "r=Matrix([rx,ry,0])\n",
    "v0=omega.cross(r)\n",
    "solve(v0-v)"
   ]
  },
  {
   "cell_type": "code",
   "execution_count": 40,
   "id": "4b48e72f",
   "metadata": {},
   "outputs": [
    {
     "data": {
      "text/latex": [
       "$\\displaystyle 16$"
      ],
      "text/plain": [
       "16"
      ]
     },
     "execution_count": 40,
     "metadata": {},
     "output_type": "execute_result"
    }
   ],
   "source": [
    "# 2.6\n",
    "import numpy as np\n",
    "from sympy import *\n",
    "\n",
    "x = symbols('x')\n",
    "y = sin(2*x)\n",
    "vxMag = 2\n",
    "\n",
    "ay=y.diff(x,2)*vxMag**2\n",
    "\n",
    "ay.subs(x,3/4*pi)"
   ]
  },
  {
   "cell_type": "code",
   "execution_count": null,
   "id": "539c7b9b",
   "metadata": {},
   "outputs": [],
   "source": [
    "# 2.7\n",
    "theta = symbols('theta')\n",
    "\n",
    "r = 4 - 2*cos(5*theta - 3)\n",
    "theta_v = -4 # in radians\n",
    "omegaz = 3\n",
    "\n",
    "\n"
   ]
  },
  {
   "cell_type": "code",
   "execution_count": 47,
   "id": "9194affc",
   "metadata": {},
   "outputs": [
    {
     "name": "stdout",
     "output_type": "stream",
     "text": [
      "Matrix([[144.725814567003], [82.2627339397750], [0]])\n"
     ]
    }
   ],
   "source": [
    "# 2.10\n",
    "\n",
    "import numpy as np\n",
    "from sympy import *\n",
    "\n",
    "theta = symbols('theta')\n",
    "\n",
    "r = 2*cos(5*theta - 2) + 3\n",
    "theta_v = 4 # in radians\n",
    "omegaz = -2\n",
    "alphaz = -1\n",
    "\n",
    "r=Matrix([r*cos(theta),r*sin(theta),0])\n",
    "a=r.diff(theta,2)*omegaz**2+r.diff(theta,1)*alphaz\n",
    "a1=a.subs(theta,theta_v)\n",
    "print(a1.evalf())"
   ]
  },
  {
   "cell_type": "code",
   "execution_count": 48,
   "id": "de9e804b",
   "metadata": {},
   "outputs": [
    {
     "data": {
      "text/plain": [
       "15.75"
      ]
     },
     "execution_count": 48,
     "metadata": {},
     "output_type": "execute_result"
    }
   ],
   "source": [
    "# 3a.1\n",
    "from sympy import *\n",
    "\n",
    "v = 4\n",
    "F = 7\n",
    "rho = 36\n",
    "\n",
    "m=F/v**2*rho\n",
    "\n",
    "m"
   ]
  },
  {
   "cell_type": "code",
   "execution_count": null,
   "id": "1d5e01e6",
   "metadata": {},
   "outputs": [],
   "source": [
    "# 3b.2\n",
    "import numpy as np\n",
    "from sympy import *\n",
    "\n",
    "t = symbols('t', real = True)\n",
    "s = -3*t**2 - t + 1\n",
    "t_v = 1\n",
    "rho = 3\n",
    "\n"
   ]
  },
  {
   "cell_type": "code",
   "execution_count": 52,
   "id": "ff615126",
   "metadata": {},
   "outputs": [
    {
     "name": "stdout",
     "output_type": "stream",
     "text": [
      "Matrix([[-135.000000000000], [-258.500000000000], [0]])\n"
     ]
    }
   ],
   "source": [
    "# 3b.6\n",
    "import numpy as np\n",
    "from sympy import *\n",
    "\n",
    "t = symbols('t', real = True)\n",
    "r = Matrix([-3*t**2 - t + 2, t**2 + 2*t, 0])\n",
    "t_v = 2\n",
    "\n",
    "T=r.diff(t,1)/r.diff(t,1).norm()\n",
    "N=T.diff(t,1)/T.diff(t,1).norm()\n",
    "N=N.subs(t,t_v)\n",
    "\n",
    "a=r.diff(t,2)\n",
    "v=r.diff(t,1)\n",
    "a=a.subs(t,t_v)\n",
    "v=v.subs(t,t_v)\n",
    "\n",
    "decimal=a.cross(v)\n",
    "rho=v.norm()**3/(decimal.norm())\n",
    "\n",
    "r2=r.subs(t,t_v)+N*rho\n",
    "\n",
    "print(r2.evalf())"
   ]
  },
  {
   "cell_type": "code",
   "execution_count": 55,
   "id": "b0b6dcb2",
   "metadata": {},
   "outputs": [
    {
     "name": "stdout",
     "output_type": "stream",
     "text": [
      "Matrix([[0.0837290619707561], [-0.996488556974689], [0]])\n",
      "Matrix([[-0.996488556974689], [-0.0837290619707561], [0]])\n",
      "Matrix([[-0.0945073612668664], [0.995582919992320], [0]])\n",
      "Matrix([[-0.567044167601198], [64.7734975199539], [0]])\n"
     ]
    }
   ],
   "source": [
    "# 3b.7\n",
    "import numpy as np\n",
    "from sympy import *\n",
    "\n",
    "x = symbols('x', real = True)\n",
    "\n",
    "m = 6\n",
    "y = -4*cos(3*x)\n",
    "g = -9.8\n",
    "x_v = 12\n",
    "vMag = 2\n",
    "vDotMag = 1\n",
    "\n",
    "d1=1\n",
    "d2=-1\n",
    "\n",
    "g=9.8\n",
    "\n",
    "################ 1算rho\n",
    "y2=y.diff(x,2)\n",
    "y1=y.diff(x,1)\n",
    "y2=y2.subs(x,x_v)\n",
    "y1=y1.subs(x,x_v)\n",
    "\n",
    "# 需要加一个abs\n",
    "rho=abs((1+y1**2)**(3/2)/y2)\n",
    "\n",
    "################# 2算et en\n",
    "r=Matrix([x,y,0])\n",
    "T=d1*r.diff(x,1)/r.diff(x,1).norm()\n",
    "N=T.diff(x,1)/T.diff(x,1).norm()\n",
    "T=T.subs(x,x_v)\n",
    "N=N.subs(x,x_v)\n",
    "\n",
    "print(T.evalf())\n",
    "print(N.evalf())\n",
    "\n",
    "############## 3写a的式子\n",
    "a=T*d2*vDotMag+vMag**2/rho*N\n",
    "print(a.evalf())\n",
    "\n",
    "\n",
    "F=m*a+Matrix([0,m*g,0])\n",
    "\n",
    "print(F.evalf())"
   ]
  },
  {
   "cell_type": "code",
   "execution_count": 61,
   "id": "d4de2e5e",
   "metadata": {},
   "outputs": [
    {
     "name": "stdout",
     "output_type": "stream",
     "text": [
      "-9/2 -17/2\n"
     ]
    }
   ],
   "source": [
    "# q14\n",
    "\n",
    "from sympy import *\n",
    "\n",
    "rP = Matrix([ 0, -1,  0])\n",
    "vP = Matrix([-16,   4,   0])\n",
    "rQ = Matrix([3, 4, 0])\n",
    "vQ = Matrix([-36,  16,   0])\n",
    "\n",
    "\n",
    "# vP=rP+vP\n",
    "# vQ=rQ+vQ\n",
    "\n",
    "# x=S('x')\n",
    "# y1=(vP[1]-vQ[1])/(vP[0]-vQ[0])*(x-vP[0])+vP[1]\n",
    "# y2=(rP[1]-rQ[1])/(rP[0]-rQ[0])*(x-rP[0])+rP[1]\n",
    "\n",
    "\n",
    "# q1=y1-y2\n",
    "# x=solve(q1,x)[0]\n",
    "# y=(vP[1]-vQ[1])/(vP[0]-vQ[0])*(x-vP[0])+vP[1]\n",
    "# print(x,y)\n",
    "\n"
   ]
  },
  {
   "cell_type": "code",
   "execution_count": 75,
   "id": "be28e4e8",
   "metadata": {},
   "outputs": [
    {
     "name": "stdout",
     "output_type": "stream",
     "text": [
      "-1 -5\n"
     ]
    }
   ],
   "source": [
    "\n",
    "rP = Matrix([ 0, -1,  0])\n",
    "vP = Matrix([-16,   4,   0])\n",
    "rQ = Matrix([3, 4, 0])\n",
    "vQ = Matrix([-36,  16,   0])\n",
    "x=S('x')\n",
    "y1=-vP[0]/vP[1]*(x-rP[0])+rP[1]\n",
    "y2=-vQ[0]/vQ[1]*(x-rQ[0])+rQ[1]\n",
    "\n",
    "q1=y1-y2\n",
    "x=solve(q1,x)[0]\n",
    "\n",
    "\n",
    "\n",
    "y=-vP[0]/vP[1]*(x-rP[0])+rP[1]\n",
    "\n",
    "print(x,y)"
   ]
  },
  {
   "cell_type": "code",
   "execution_count": 59,
   "id": "0359b72a",
   "metadata": {},
   "outputs": [
    {
     "data": {
      "text/plain": [
       "0.13899999999999998"
      ]
     },
     "execution_count": 59,
     "metadata": {},
     "output_type": "execute_result"
    }
   ],
   "source": [
    "(7-(2.5*0.7+40*0.027))/30\n",
    "\n"
   ]
  },
  {
   "cell_type": "code",
   "execution_count": 82,
   "id": "5b658e80",
   "metadata": {},
   "outputs": [
    {
     "name": "stdout",
     "output_type": "stream",
     "text": [
      "{w1: -15/7, w3: -9/7}\n"
     ]
    }
   ],
   "source": [
    "# 19\n",
    "from sympy import *\n",
    "\n",
    "rAB = Matrix([2, 0, 0])\n",
    "rBC = Matrix([1, 1, 0])\n",
    "rAD = Matrix([-1,  2,  0])\n",
    "rDC = Matrix([ 4, -1,  0])\n",
    "omega2 = Matrix([ 0,  0, -3])\n",
    "rCB=-rBC\n",
    "\n",
    "a1,a2,a3,w1,w3=S('a1,a2,a3,w1,w3')\n",
    "omega1=Matrix([0,0,w1])\n",
    "omega3=Matrix([0,0,w3])\n",
    "alpha1=Matrix([0,0,a1])\n",
    "alpha2=Matrix([0,0,a2])\n",
    "alpha3=Matrix([0,0,a3])\n",
    "\n",
    "\n",
    "\n",
    "aB=alpha1.cross(rAD)+omega1.cross(omega1.cross(rAD))+omega2.cross(omega2.cross(rDC))+alpha2.cross(rDC)+alpha3.cross(rCB)+omega3.cross(omega3.cross(rCB))\n",
    "\n",
    "vB=omega1.cross(rAD)+omega3.cross(rDC)-omega2.cross(rBC)\n",
    "# print(vB)\n",
    "q1=solve(vB)\n",
    "\n",
    "print(q1)\n"
   ]
  },
  {
   "cell_type": "code",
   "execution_count": 84,
   "id": "2b092129",
   "metadata": {},
   "outputs": [
    {
     "data": {
      "text/plain": [
       "{w: -2}"
      ]
     },
     "execution_count": 84,
     "metadata": {},
     "output_type": "execute_result"
    }
   ],
   "source": [
    "# 17\n",
    "from sympy import *\n",
    "\n",
    "rCQ = Matrix([  9, -12,   0])\n",
    "vQ = Matrix([  6, -18,   0])\n",
    "\n",
    "R=rCQ.norm()\n",
    "rOC=Matrix([0,R,0])\n",
    "w=S(\"w\")\n",
    "omega=Matrix([0,0,w])\n",
    "vq=omega.cross(rOC)+omega.cross(rCQ)\n",
    "\n",
    "solve(vq-vQ)\n"
   ]
  },
  {
   "attachments": {
    "image.png": {
     "image/png": "[encoded data removed]"
    }
   },
   "cell_type": "markdown",
   "id": "33d27266",
   "metadata": {},
   "source": [
    "![image.png](attachment:image.png)"
   ]
  },
  {
   "cell_type": "code",
   "execution_count": 20,
   "id": "05fe5263",
   "metadata": {},
   "outputs": [
    {
     "name": "stdout",
     "output_type": "stream",
     "text": [
      "Matrix([[16.3333333333333], [0], [0]])\n",
      "3.00000000000000\n",
      "滑动\n"
     ]
    },
    {
     "data": {
      "text/latex": [
       "$\\displaystyle \\left[\\begin{matrix}2.66666666666667\\\\0\\\\0\\end{matrix}\\right]$"
      ],
      "text/plain": [
       "Matrix([\n",
       "[2.66666666666667],\n",
       "[               0],\n",
       "[               0]])"
      ]
     },
     "metadata": {},
     "output_type": "display_data"
    },
    {
     "data": {
      "text/latex": [
       "$\\displaystyle \\left[\\begin{matrix}2.66666666666667\\\\16.0\\\\0\\end{matrix}\\right]$"
      ],
      "text/plain": [
       "Matrix([\n",
       "[2.66666666666667],\n",
       "[            16.0],\n",
       "[               0]])"
      ]
     },
     "metadata": {},
     "output_type": "display_data"
    },
    {
     "data": {
      "text/latex": [
       "$\\displaystyle \\left[\\begin{matrix}0\\\\0\\\\-4.0\\end{matrix}\\right]$"
      ],
      "text/plain": [
       "Matrix([\n",
       "[   0],\n",
       "[   0],\n",
       "[-4.0]])"
      ]
     },
     "metadata": {},
     "output_type": "display_data"
    }
   ],
   "source": [
    "# \n",
    "\n",
    "import numpy as np\n",
    "from sympy import *\n",
    "\n",
    "m = 3\n",
    "r = 4\n",
    "D = Matrix([5,27, 0])\n",
    "g = Matrix([0, -9.8, 0])\n",
    "mu = 1.25\n",
    "\n",
    "rCP=Matrix([-r,0,0])\n",
    "rQC=Matrix([0,r,0])\n",
    "rCQ=Matrix([0,-r,0])\n",
    "\n",
    "F=D+m*g\n",
    "fm=abs(F[1]*mu)\n",
    "\n",
    "x=S('x')\n",
    "f=Matrix([x,0,0])\n",
    "\n",
    "\n",
    "M=rCP.cross(D)+rCQ.cross(f)\n",
    "Iz=1/2*m*r**2\n",
    "alpha=M/Iz\n",
    "\n",
    "\n",
    "ac=alpha.cross(rQC)\n",
    "q1=(D+f)[0]/m-ac[0]\n",
    "\n",
    "x=solve(q1)[0]\n",
    "\n",
    "f=Matrix([x,0,0])\n",
    "\n",
    "\n",
    "print(f)\n",
    "print(fm)\n",
    "\n",
    "\n",
    "\n",
    "\n",
    "# ac=Matrix([(D+f)/m,0,0])\n",
    "# print((D+f)/m)\n",
    "# print(ac)\n",
    "\n",
    "\n",
    "\n",
    "\n",
    "if abs(f)>abs(fm):\n",
    "    print('滑动')\n",
    "    if rCP.cross(D)[2] >= 0:\n",
    "        f = Matrix([-fm,0,0])\n",
    "    else:\n",
    "        f = Matrix([fm,0,0])\n",
    "    ac=Matrix()\n",
    "\n",
    "\n",
    "\n",
    "print('滑动')\n",
    "\n",
    "if rCP.cross(D)[2] >= 0:\n",
    "    f = Matrix([-fm,0,0])\n",
    "else:\n",
    "    f = Matrix([fm,0,0])\n",
    "\n",
    "\n",
    "aC = Matrix([(D+f)[0]/m,0,0])\n",
    "\n",
    "display(aC)\n",
    "M = rCQ.cross(f) + rCP.cross(D)\n",
    "alpha = M/Iz\n",
    "\n",
    "\n",
    "aCP = alpha.cross(rCP)\n",
    "aP = aC + aCP\n",
    "display(aP)\n",
    "display(alpha)\n",
    "\n"
   ]
  },
  {
   "cell_type": "code",
   "execution_count": 21,
   "id": "a69ea890",
   "metadata": {},
   "outputs": [
    {
     "data": {
      "text/plain": [
       "{a1: -236.000000000000, a2: 2.00000000000000}"
      ]
     },
     "execution_count": 21,
     "metadata": {},
     "output_type": "execute_result"
    }
   ],
   "source": [
    "# 5.6\n",
    "from sympy import *\n",
    "\n",
    "m1 = 2.000\n",
    "m2 = 6.000\n",
    "I1 = 2.000\n",
    "I2 = 32.500\n",
    "rOP = Matrix([-1,  1,  0])\n",
    "rPQ = Matrix([ 8, -1,  0])\n",
    "omega1 = Matrix([0.000, 0.000, -16.000])\n",
    "omega2 = Matrix([ 0,  0, -2])\n",
    "vP = Matrix([16.000, 16.000, 0.000])\n",
    "vQ = Matrix([14.000, 0.000, 0.000])\n",
    "aQ = Matrix([462.000, 0.000, 0.000])\n",
    "FP = Matrix([2862.000, -217.000, 0.000])\n",
    "\n",
    "\n",
    "a2=S('a2')\n",
    "alpha2=Matrix([0,0,a2])\n",
    "a1=S('a1')\n",
    "alpha1=Matrix([0,0,a1])\n",
    "\n",
    "\n",
    "\n",
    "\n",
    "ap=omega1.cross(omega1.cross(rOP))+alpha1.cross(rOP)\n",
    "aq=omega2.cross(omega2.cross(rPQ))+alpha2.cross(rPQ)+ap\n",
    "\n",
    "\n",
    "\n",
    "solve(aQ-aq)\n",
    "\n",
    "\n"
   ]
  },
  {
   "cell_type": "code",
   "execution_count": null,
   "id": "50a4ad08",
   "metadata": {},
   "outputs": [],
   "source": [
    "# 5b.2\n",
    "#\n",
    "\n",
    "from sympy import *\n",
    "\n",
    "m1 = 9\n",
    "m2 = 3\n",
    "m3 = 4\n",
    "r1 = Matrix([ 5, -4,  0])\n",
    "r2 = Matrix([-2,  5,  0])\n",
    "rC = Matrix([-9, 11,  0])\n",
    "\n",
    "mtotal=m1+m2+m3\n",
    "\n",
    "an=(rC*mtotal-(m1*r1+m2*r2))/m3\n",
    "print(an.evalf())\n"
   ]
  },
  {
   "cell_type": "code",
   "execution_count": 46,
   "id": "1e9f0e45",
   "metadata": {},
   "outputs": [
    {
     "name": "stdout",
     "output_type": "stream",
     "text": [
      "577.987741121327\n",
      "153.450423652425\n",
      "1783.70930232558\n"
     ]
    }
   ],
   "source": [
    "# 5b.3\n",
    "\n",
    "\n",
    "from sympy import *\n",
    "\n",
    "w = 2\n",
    "l1 = 4\n",
    "rho1 = 7\n",
    "l2 = 7\n",
    "rho2 = 1\n",
    "l3 = 4\n",
    "rho3 = 2\n",
    "\n",
    "x=S('x')\n",
    "\n",
    "mtotal=w*(l1*rho1+l2*rho2+l3*rho3)\n",
    "\n",
    "xtotal=integrate(w*rho1*x,(x,0,l1))+integrate(w*rho2*x,(x,l1,l2+l1))+integrate(w*rho3*x,(x,l1+l2,l1+l2+l3))\n",
    "\n",
    "xbar=xtotal/mtotal\n",
    "\n",
    "I1=1/12*rho1*w*l1*(l1**2+w**2)+rho1*w*l1*(xbar-1/2*l1)**2\n",
    "print(I1)\n",
    "\n",
    "I2=1/12*w*l2*(l2**2+w**2)+rho2*w*l2*(xbar-l1-1/2*l2)**2\n",
    "print(I2)\n",
    "I3=1/12*w*l3*(l3**2+w**2)+rho3*w*l3*(xbar-l1-l2-l3/2)**2\n",
    "\n",
    "I=I1+I2+I3\n",
    "print(I)"
   ]
  },
  {
   "cell_type": "code",
   "execution_count": 47,
   "id": "67e3deb4",
   "metadata": {},
   "outputs": [
    {
     "name": "stdout",
     "output_type": "stream",
     "text": [
      "425/86\n",
      "577.987741121327\n",
      "153.450423652425\n",
      "153.450423652425\n"
     ]
    }
   ],
   "source": [
    "xtotal=integrate(w*rho1*x,(x,0,l1))+integrate(w*rho2*x,(x,l1,l1+l2))+integrate(w*rho3*x,(x,l1+l2,l1+l2+l3))\n",
    "\n",
    "mtotal=integrate(w*rho1,(x,0,l1))+integrate(w*rho2,(x,l1,l1+l2))+integrate(w*rho3,(x,l1+l2,l1+l2+l3))\n",
    "print(xtotal/mtotal)\n",
    "\n",
    "x,y=S('x,y')\n",
    "\n",
    "I1=integrate(rho1*(x**2+y**2),(y,-w/2,w/2),(x,-xbar,-xbar+l1))\n",
    "\n",
    "print(I1)\n",
    "\n",
    "\n",
    "I2=integrate(rho2*(x**2+y**2),(y,-w/2,w/2),(x,-xbar+l1,-xbar+l1+l2))\n",
    "\n",
    "print(I2)\n",
    "\n",
    "I2=1/12*w*l2*rho2*(w**2+l2**2)+w*l2*rho2*(xbar-l1-l2/2)**2\n",
    "print(I2)\n",
    "\n",
    "\n"
   ]
  },
  {
   "cell_type": "code",
   "execution_count": 48,
   "id": "6dc8c937",
   "metadata": {},
   "outputs": [
    {
     "data": {
      "text/plain": [
       "146.83333333333334"
      ]
     },
     "execution_count": 48,
     "metadata": {},
     "output_type": "execute_result"
    }
   ],
   "source": [
    "# 5b.4\n",
    "\n",
    "m1=1\n",
    "r=1\n",
    "\n",
    "m2=1\n",
    "l=5\n",
    "\n",
    "a=4\n",
    "b=2\n",
    "m3=3\n",
    "\n",
    "m4=1\n",
    "\n",
    "x1=b/2-r\n",
    "y1=l+a\n",
    "\n",
    "I1=1/2*m1*r**2+m1*(x1**2+y1**2)\n",
    "\n",
    "x2=b/2\n",
    "y2=l/2+a\n",
    "\n",
    "I2=1/12*m2*l**2+m2*(x2**2+y2**2)\n",
    "\n",
    "\n",
    "x3=b/2\n",
    "y3=a/2\n",
    "\n",
    "I3=1/12*m*(a**2+b**2)+m3*(x3**2+y3**2)\n",
    "\n",
    "I1+I2+I3\n"
   ]
  },
  {
   "cell_type": "code",
   "execution_count": null,
   "id": "ccbb7d05",
   "metadata": {},
   "outputs": [],
   "source": [
    "# 5b.4\n",
    "\n",
    "\n",
    "m1=3\n",
    "r=2\n",
    "m2=2\n",
    "l=5\n",
    "m3=4\n",
    "a=4\n",
    "b=4\n",
    "m4=4\n",
    "\n",
    "x1="
   ]
  },
  {
   "cell_type": "code",
   "execution_count": 50,
   "id": "afbe8a20",
   "metadata": {},
   "outputs": [
    {
     "name": "stdout",
     "output_type": "stream",
     "text": [
      "Matrix([[4.02753193514084], [-3.83487764334967], [0]])\n"
     ]
    }
   ],
   "source": [
    "import numpy as np\n",
    "from sympy import *\n",
    "\n",
    "theta = symbols('theta')\n",
    "\n",
    "r = 2*sin(5*theta + 4) + 3\n",
    "theta_v = -1 # in radians\n",
    "omegaz = 1\n",
    "\n",
    "\n",
    "r=Matrix([r*cos(theta),r*sin(theta),0])\n",
    "v=r.diff(theta,1)*omegaz\n",
    "\n",
    "v1=v.subs(theta,theta_v)\n",
    "print(v1.evalf())"
   ]
  },
  {
   "cell_type": "code",
   "execution_count": 54,
   "id": "067abffd",
   "metadata": {},
   "outputs": [
    {
     "name": "stdout",
     "output_type": "stream",
     "text": [
      "29.1386770461529\n"
     ]
    }
   ],
   "source": [
    "\n",
    "from sympy import *\n",
    "\n",
    "r1 = 8\n",
    "r2 = 6\n",
    "r3 = 9\n",
    "r4 = 7\n",
    "aPMag = 274\n",
    "omega2Mag = 6\n",
    "\n",
    "\n",
    "w3=omega2Mag*r2/r3\n",
    "\n",
    "an=w3**2*r3\n",
    "at=sqrt(aPMag**2-an**2)\n",
    "at\n",
    "\n",
    "a1=at/r1\n",
    "print(a1)\n"
   ]
  },
  {
   "cell_type": "code",
   "execution_count": 58,
   "id": "ea1e771a",
   "metadata": {},
   "outputs": [
    {
     "name": "stdout",
     "output_type": "stream",
     "text": [
      "324.946031746032\n"
     ]
    }
   ],
   "source": [
    "import numpy as np\n",
    "from sympy import *\n",
    "\n",
    "x, y = symbols('x, y')\n",
    "\n",
    "rho = 4\n",
    "y1 = -x**2 - 1\n",
    "y2 = -x**2 + 4*x + 2\n",
    "x1 = 0\n",
    "x2 = 2\n",
    "\n",
    "\n",
    "xtotal=integrate(x,(y,y1,y2),(x,x1,x2))\n",
    "A=integrate(1,(y,y1,y2),(x,x1,x2))\n",
    "xbar=xtotal/A\n",
    "\n",
    "ytotal=integrate(y,(y,y1,y2),(x,x1,x2))\n",
    "ybar=ytotal/A\n",
    "\n",
    "I=integrate(rho*((x-xbar)**2+(y-ybar)**2),(y,y1,y2),(x,x1,x2))\n",
    "\n",
    "print(I.evalf())"
   ]
  },
  {
   "cell_type": "code",
   "execution_count": 60,
   "id": "691be890",
   "metadata": {},
   "outputs": [
    {
     "data": {
      "text/latex": [
       "$\\displaystyle 245.0$"
      ],
      "text/plain": [
       "245.000000000000"
      ]
     },
     "execution_count": 60,
     "metadata": {},
     "output_type": "execute_result"
    }
   ],
   "source": [
    "from sympy import *\n",
    "\n",
    "m1 = 5.0\n",
    "m2 = 8.0\n",
    "rOP = Matrix([2, 2, 0])\n",
    "rPQ = Matrix([0, 1, 0])\n",
    "g = 9.8\n",
    "\n",
    "\n",
    "m1*g*rOP[1]/2+m2*g*(rPQ[1]/2+rOP[1])\n"
   ]
  },
  {
   "cell_type": "code",
   "execution_count": null,
   "id": "a676d24e",
   "metadata": {},
   "outputs": [],
   "source": [
    "# \n",
    "m1=1\n",
    "r="
   ]
  },
  {
   "cell_type": "code",
   "execution_count": null,
   "id": "24c6bf61",
   "metadata": {},
   "outputs": [],
   "source": [
    "m1=3\n",
    "r=1\n",
    "m2=-3\n",
    "l=4\n",
    "m3=1\n",
    "a=4\n",
    "b=3\n",
    "\n",
    "x1=r\n",
    "y1=0\n",
    "\n",
    "I1=1/2*m*r**2"
   ]
  },
  {
   "cell_type": "code",
   "execution_count": 61,
   "id": "7cdd8a58",
   "metadata": {},
   "outputs": [
    {
     "data": {
      "text/latex": [
       "$\\displaystyle 9.83333333333333$"
      ],
      "text/plain": [
       "9.83333333333333"
      ]
     },
     "execution_count": 61,
     "metadata": {},
     "output_type": "execute_result"
    }
   ],
   "source": [
    "from sympy import *\n",
    "\n",
    "m1 = 7\n",
    "m2 = 3\n",
    "rOP = Matrix([2, 1, 0])\n",
    "rPQ = Matrix([1, 1, 0])\n",
    "omega1 = Matrix([ 0,  0, -1])\n",
    "omega2 = Matrix([0, 0, 1])\n",
    "\n",
    "\n",
    "I1=1/3*m1*rOP.norm()**2\n",
    "I2=1/3*m2*rPQ.norm()**2\n",
    "\n",
    "\n",
    "\n",
    "vP = omega1.cross(rOP)\n",
    "\n",
    "T1=1/2*I1*omega1[2]**2\n",
    "T2=1/2*I2*omega2[2]**2+1/2*m2*(vP.norm()**2)+m*vP.dot(omega2.cross(rPQ/2))\n",
    "\n",
    "T=T1+T2\n",
    "T.evalf()\n"
   ]
  }
 ],
 "metadata": {
  "kernelspec": {
   "display_name": "Python 3",
   "language": "python",
   "name": "python3"
  },
  "language_info": {
   "codemirror_mode": {
    "name": "ipython",
    "version": 3
   },
   "file_extension": ".py",
   "mimetype": "text/x-python",
   "name": "python",
   "nbconvert_exporter": "python",
   "pygments_lexer": "ipython3",
   "version": "3.9.6"
  }
 },
 "nbformat": 4,
 "nbformat_minor": 5
}

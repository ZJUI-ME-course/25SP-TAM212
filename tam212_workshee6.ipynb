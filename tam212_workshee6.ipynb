{
 "cells": [
  {
   "cell_type": "code",
   "execution_count": 53,
   "metadata": {},
   "outputs": [],
   "source": [
    "# importing the necessary modules\n",
    "import matplotlib.pyplot as plt\n",
    "import numpy as np\n",
    "from numpy import sin,cos,tan,radians\n",
    "from sympy import *"
   ]
  },
  {
   "cell_type": "code",
   "execution_count": 54,
   "metadata": {},
   "outputs": [],
   "source": [
    "# given variables\n",
    "\n",
    "# initial time (s)\n",
    "t0 = 0\n",
    "# final time (s)\n",
    "tf = 1.2\n",
    "\n",
    "# mass of the object (kg)\n",
    "m = 0.625\n",
    "# drag parameter (kg / m)\n",
    "c = 0.015\n",
    "# gravitational acceleration (m/s^2)\n",
    "g = 9.8\n",
    "\n",
    "# initial x-position (m)\n",
    "x0 = 0\n",
    "# initial y-position (m)\n",
    "y0 = 2\n",
    "# initial angle (degrees)\n",
    "theta0 = 10\n",
    "\n",
    "# final x-position (target x-position) (m)\n",
    "xf = 7.239\n",
    "# final y-position (target y-position) (m)\n",
    "yf = 3.048"
   ]
  },
  {
   "cell_type": "code",
   "execution_count": 55,
   "metadata": {},
   "outputs": [],
   "source": [
    "# time-step (s)\n",
    "dt = 0.01\n",
    "\n",
    "# initial speed (m/s)\n",
    "v0 = 7"
   ]
  },
  {
   "cell_type": "code",
   "execution_count": 56,
   "metadata": {},
   "outputs": [],
   "source": [
    "# velocity at t = t_0\n",
    "vx0 = 7*(2)**(0.5)/2\n",
    "vy0 = 7*(2)**(0.5)/2\n",
    "\n",
    "# acceleration at t = t_0\n",
    "ax0 = -c/m*vx0*(vx0**2+vy0**2)**(0.5)\n",
    "ay0 = -g-c/m*vy0*(vx0**2+vy0**2)**(0.5)\n",
    "\n",
    "# velocity and position at t = t_1\n",
    "vx1 = vx0+ax0*dt\n",
    "vy1 = vy0+ax0*dt\n",
    "x1 = x0+(vx1+vx0)/2*dt\n",
    "y1 = y0+(vy1+vy0)/2*dt\n",
    "# print(float(vx1),float(vy1))\n",
    "# acceleration at t = t_1\n",
    "ax1 = -c/m*vx1*(vx1**2+vy1**2)**(0.5)\n",
    "ay1 = -g-c/m*vy1*(vx1**2+vy1**2)**(0.5)\n",
    "\n",
    "# velocity and position at t = t_2\n",
    "vx2 = vx1+ax1*dt\n",
    "vy2 = vy1+ax1*dt\n",
    "x2 = x1+vx2*dt\n",
    "y2 = y1+vy2*dt"
   ]
  },
  {
   "cell_type": "code",
   "execution_count": 57,
   "metadata": {},
   "outputs": [],
   "source": [
    "#grade (write your code in this cell and DO NOT DELETE THIS LINE)\n",
    "def eulerMethod(m, c, g, x0, y0, xf, yf, v0, theta0, t0, dt, tf):\n",
    "    '''\n",
    "    Initializing variables and preparing the loop\n",
    "    '''\n",
    "    # angle in radians (do not modify)\n",
    "    theta0 = np.radians(theta0)\n",
    "    # time array (do not modify)\n",
    "    t = np.arange(t0, tf + dt, dt)\n",
    "\n",
    "    # position arrays (do not modify)\n",
    "    x = np.zeros(np.size(t))\n",
    "    y = np.zeros(np.size(t))\n",
    "\n",
    "    # velocity arrays (do not modify)\n",
    "    vx = np.zeros(np.size(t))\n",
    "    vy = np.zeros(np.size(t))\n",
    "\n",
    "    # initial positions (do not modify)\n",
    "    x[0], y[0] = x0, y0\n",
    "\n",
    "    # velocity at t = 0 \n",
    "    \n",
    "    vx[0] = v0*(2)**(0.5)/2\n",
    "    vy[0] = v0*(2)**(0.5)/2\n",
    "\n",
    "    # loop through the time array\n",
    "    for n in range(len(t) - 1):\n",
    "\n",
    "        # current time acceleration\n",
    "        axn = -c/m*vx[n]*(vx[n]**2+vy[n]**2)**(0.5)\n",
    "        ayn = -g-c/m*vy[n]*(vx[n]**2+vy[n]**2)**(0.5)\n",
    "\n",
    "        # velocity at next timestep\n",
    "        vx[n + 1] = vx[n]+axn*dt\n",
    "        vy[n + 1] = vy[n]+ayn*dt\n",
    "\n",
    "        # position at next timestep\n",
    "        x[n + 1] = x[n]+vx[n]*dt\n",
    "        y[n + 1] = y[n]+vy[n]*dt\n",
    "\n",
    "        # break the loop if the y-position is below zero\n",
    "        if y[n] < 0:\n",
    "            break\n",
    "    return vx, vy, x, y"
   ]
  },
  {
   "cell_type": "code",
   "execution_count": 58,
   "metadata": {},
   "outputs": [],
   "source": [
    "v0 = 9.78"
   ]
  },
  {
   "cell_type": "code",
   "execution_count": 59,
   "metadata": {},
   "outputs": [],
   "source": [
    "dt = 0.01"
   ]
  },
  {
   "cell_type": "code",
   "execution_count": 60,
   "metadata": {},
   "outputs": [],
   "source": [
    "# calling the function on the variables defined above\n",
    "vx, vy, x, y = eulerMethod(m, c, g, x0, y0, xf, yf, v0, theta0, t0, dt, tf)"
   ]
  },
  {
   "cell_type": "code",
   "execution_count": 61,
   "metadata": {},
   "outputs": [],
   "source": [
    "'''\n",
    "If your final time is too large, you will find zero values since the loop stops\n",
    "when the y-position is less than zero. We will remove this problem here to ensure\n",
    "smooth plotting\n",
    "'''\n",
    "# Set values of zero to NaN (not a number) since matplotlib will not plot those values, excluding the initial points\n",
    "for i in range(1, len(vx)):\n",
    "    if x[i] == 0:\n",
    "        x[i] = np.nan\n",
    "    if y[i] <= 0:\n",
    "        y[i] = np.nan"
   ]
  },
  {
   "cell_type": "code",
   "execution_count": 62,
   "metadata": {},
   "outputs": [
    {
     "data": {
      "text/plain": [
       "<matplotlib.legend.Legend at 0x1176361c0>"
      ]
     },
     "execution_count": 62,
     "metadata": {},
     "output_type": "execute_result"
    },
    {
     "data": {
      "image/png": "[encoded data removed]",
      "text/plain": [
       "<Figure size 1000x500 with 1 Axes>"
      ]
     },
     "metadata": {},
     "output_type": "display_data"
    }
   ],
   "source": [
    "# plotting\n",
    "fig = plt.figure(figsize=(10, 5))\n",
    "plt.scatter(x, y, s=10, label='x vs y')\n",
    "plt.plot(xf, yf, 'ro', label='desired position')\n",
    "plt.xlabel('x (m)', fontsize=15)\n",
    "plt.ylabel('y (m)', fontsize=15)\n",
    "plt.legend(loc='best', fontsize=15)"
   ]
  }
 ],
 "metadata": {
  "kernelspec": {
   "display_name": "Python 3",
   "language": "python",
   "name": "python3"
  },
  "language_info": {
   "codemirror_mode": {
    "name": "ipython",
    "version": 3
   },
   "file_extension": ".py",
   "mimetype": "text/x-python",
   "name": "python",
   "nbconvert_exporter": "python",
   "pygments_lexer": "ipython3",
   "version": "3.9.6"
  }
 },
 "nbformat": 4,
 "nbformat_minor": 2
}

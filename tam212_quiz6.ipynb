{
 "cells": [
  {
   "cell_type": "code",
   "execution_count": null,
   "id": "a40a9a66",
   "metadata": {},
   "outputs": [
    {
     "name": "stdout",
     "output_type": "stream",
     "text": [
      "Matrix([[0], [0], [-16.25*a2 - 4*fpx + fpy/2 - 12.5]])\n",
      "Matrix([[-12.0*a2 + fpx + 20.875], [1.5*a2 + fpy + 12.0], [0]])\n",
      "Matrix([[0], [0], [-43.0000000000000]])\n"
     ]
    }
   ],
   "source": [
    "# 1\n",
    "from sympy import *\n",
    "\n",
    "m1 = 4.000\n",
    "m2 = 3.000\n",
    "I1 = 8.000\n",
    "I2 = 16.250\n",
    "rOP = Matrix([2, 0, 0])\n",
    "rPQ = Matrix([-1, -8,  0])\n",
    "omega1 = Matrix([ 0,  0, -2])\n",
    "omega2 = Matrix([0, 0, 0])\n",
    "vP = Matrix([ 0, -4,  0])\n",
    "vQ = Matrix([ 0, -4,  0])\n",
    "alpha1 = Matrix([0.000, 0.000, -2.000])\n",
    "aP = Matrix([-8.000, -4.000, 0.000])\n",
    "FQ = Matrix([-3.125, 0.000, 0.000])\n",
    "\n",
    "\n",
    "\n",
    "\n",
    "a2=S('a2')\n",
    "alpha2=Matrix([0,0,a2])\n",
    "\n",
    "\n",
    "fpx,fpy=S('fpx,fpy')\n",
    "fq=FQ \n",
    "fp=Matrix([fpx,fpy,0])\n",
    "\n",
    "rPC=rPQ/2\n",
    "rCP=-rPC\n",
    "rCQ=rPC\n",
    "\n",
    "\n",
    "q1=rCP.cross(fp)+rCQ.cross(fq)-I2*alpha2\n",
    "\n",
    "\n",
    "ac=aP+omega2.cross(omega2.cross(rPC))+alpha2.cross(rPC)\n",
    "\n",
    "q2=fp+fq-m2*ac\n",
    "\n",
    "print(q1)\n",
    "print(q2)\n",
    "an=solve([q1,q2],[a2,fpx,fpy])\n",
    "fp=Matrix([an[fpx],an[fpy],0])\n",
    "\n",
    "\n",
    "M=I1*alpha1+rOP.cross(fp)\n",
    "print(M)\n",
    "\n",
    "\n"
   ]
  },
  {
   "cell_type": "code",
   "execution_count": null,
   "id": "e5ffc916",
   "metadata": {},
   "outputs": [],
   "source": [
    "# 2\n",
    "print('1')\n",
    "\n",
    "\n"
   ]
  }
 ],
 "metadata": {
  "kernelspec": {
   "display_name": "Python 3",
   "language": "python",
   "name": "python3"
  },
  "language_info": {
   "codemirror_mode": {
    "name": "ipython",
    "version": 3
   },
   "file_extension": ".py",
   "mimetype": "text/x-python",
   "name": "python",
   "nbconvert_exporter": "python",
   "pygments_lexer": "ipython3",
   "version": "3.9.6"
  }
 },
 "nbformat": 4,
 "nbformat_minor": 5
}

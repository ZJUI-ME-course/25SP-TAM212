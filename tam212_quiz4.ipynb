{
 "cells": [
  {
   "cell_type": "code",
   "execution_count": 4,
   "id": "74bade1d",
   "metadata": {},
   "outputs": [
    {
     "name": "stdout",
     "output_type": "stream",
     "text": [
      "Matrix([[0], [372], [0]])\n"
     ]
    }
   ],
   "source": [
    "# 4a.8\n",
    "\n",
    "\n",
    "from sympy import *\n",
    "\n",
    "rOP = Matrix([ 2, -1,  0])\n",
    "rPQ = Matrix([ 4, -8,  0])\n",
    "omega1 = Matrix([0, 0, 8])\n",
    "omega2 = Matrix([ 0,  0, -1])\n",
    "vP = Matrix([ 8, 16,  0])\n",
    "vQ = Matrix([ 0, 12,  0])\n",
    "alpha2 = Matrix([ 0,  0, -3])\n",
    "\n",
    "alpha1=S('alpha1')\n",
    "alpha1_matrix=Matrix([0, 0, alpha1])\n",
    "alpha2_matrix=alpha2\n",
    "\n",
    "\n",
    "ap=alpha1_matrix.cross(rOP)+omega1.cross(omega1.cross(rOP))\n",
    "apq=alpha2_matrix.cross(rPQ)+omega2.cross(omega2.cross(rPQ))\n",
    "\n",
    "aq=apq+ap\n",
    "alpha1=solve([aq[0]],[alpha1])[alpha1]\n",
    "\n",
    "alpha1_matrix=Matrix([0, 0, alpha1])\n",
    "\n",
    "ap=alpha1_matrix.cross(rOP)+omega1.cross(omega1.cross(rOP))\n",
    "apq=alpha2_matrix.cross(rPQ)+omega2.cross(omega2.cross(rPQ))\n",
    "aq=apq+ap\n",
    "\n",
    "\n",
    "print(aq)"
   ]
  },
  {
   "cell_type": "code",
   "execution_count": 22,
   "id": "a438788a",
   "metadata": {},
   "outputs": [
    {
     "data": {
      "text/plain": [
       "[-0.563046317415888]"
      ]
     },
     "execution_count": 22,
     "metadata": {},
     "output_type": "execute_result"
    }
   ],
   "source": [
    "from sympy import *\n",
    "\n",
    "\n",
    "l = 5.5\n",
    "aPMag = 2.0\n",
    "thetaP = 46.0 # in degrees\n",
    "aQMag = 2.0\n",
    "thetaQ = 56.0 # in degrees\n",
    "\n",
    "theta=thetaP+thetaQ\n",
    "\n",
    "thetaP=thetaP/180*pi\n",
    "thetaQ=(180+thetaQ)/180*pi\n",
    "\n",
    "r=Matrix([l, 0,0])\n",
    "\n",
    "a,w=S('a,w')\n",
    "alpha=Matrix([0, 0, a])\n",
    "omega=Matrix([0, 0, w])\n",
    "\n",
    "ap=Matrix([aPMag*cos(thetaP),aPMag*sin(thetaP),0])\n",
    "\n",
    "aq=Matrix([aQMag*cos(thetaQ),aQMag*sin(thetaQ),0])\n",
    "# print(aq)\n",
    "\n",
    "\n",
    "a2=ap+alpha.cross(r)+omega.cross(omega.cross(r))\n",
    "q1=aq-a2\n",
    "# solve(q1[0],[w])\n",
    "solve(q1[1],[a])\n"
   ]
  },
  {
   "cell_type": "code",
   "execution_count": 19,
   "id": "3eb2e6b9",
   "metadata": {},
   "outputs": [
    {
     "name": "stdout",
     "output_type": "stream",
     "text": [
      "a是 [-0.563046317415888]\n",
      "w是 [-0.563046317415888]\n"
     ]
    }
   ],
   "source": [
    "# 4b.4\n",
    "# p点零点，然后pq方向为x负方向\n",
    "# aq=ap+alpha.cross(rPQ)\n",
    "\n",
    "# 为什么没有omega,只用a在垂直y轴方向相等，因为用的是alpha，所以最后的式子只有q1[1]是相等的,所以可以只思考ap,aq的第二项，所以我这里没有用到\n",
    "from sympy import Matrix as M\n",
    "\n",
    "\n",
    "from sympy import *\n",
    "\n",
    "from sympy import *\n",
    "\n",
    "l = 5.5\n",
    "aPMag = 2.0\n",
    "thetaP = 46.0 # in degrees\n",
    "aQMag = 2.0\n",
    "thetaQ = 56.0 # in degrees\n",
    "###################################\n",
    "\n",
    "a=S(\"a\")\n",
    "alpha=M([0,0,a])\n",
    "w=S(\"w\")\n",
    "omega=M([0,0,w])\n",
    "\n",
    "rPQ=M([l,0,0])\n",
    "thetaP=thetaP/180*pi\n",
    "thetaQ=thetaQ/180*pi\n",
    "\n",
    "\n",
    "# 这里方向需要自己定，pq为x正方向!!!!!!!!!!!!!!!!!!!!!!!!!!!！！！！！！！！\n",
    "# 先看p再看q\n",
    "thetaP=thetaP\n",
    "thetaQ=pi+thetaQ\n",
    "\n",
    "ap=M([aPMag*cos(thetaP),aPMag*sin(thetaP),0])\n",
    "aq=M([aQMag*cos(thetaQ),aQMag*sin(thetaQ),0])\n",
    "\n",
    "\n",
    "\n",
    "aq_cal=alpha.cross(rPQ)+ap+omega.cross(omega.cross(rPQ))\n",
    "q1=aq_cal-aq\n",
    "\n",
    "# 有时候需要先定义为solution然后再输出\n",
    "solution = solve(q1[1], a)\n",
    "print('a是',solution)\n",
    "solution2 = solve(q1[0], w)\n",
    "print('w是',solution)\n"
   ]
  }
 ],
 "metadata": {
  "kernelspec": {
   "display_name": "Python 3",
   "language": "python",
   "name": "python3"
  },
  "language_info": {
   "codemirror_mode": {
    "name": "ipython",
    "version": 3
   },
   "file_extension": ".py",
   "mimetype": "text/x-python",
   "name": "python",
   "nbconvert_exporter": "python",
   "pygments_lexer": "ipython3",
   "version": "3.9.6"
  }
 },
 "nbformat": 4,
 "nbformat_minor": 5
}

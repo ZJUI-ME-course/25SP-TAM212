{
 "cells": [
  {
   "cell_type": "code",
   "execution_count": 4,
   "id": "74bade1d",
   "metadata": {},
   "outputs": [
    {
     "name": "stdout",
     "output_type": "stream",
     "text": [
      "Matrix([[0], [372], [0]])\n"
     ]
    }
   ],
   "source": [
    "# 4a.8\n",
    "\n",
    "\n",
    "from sympy import *\n",
    "\n",
    "rOP = Matrix([ 2, -1,  0])\n",
    "rPQ = Matrix([ 4, -8,  0])\n",
    "omega1 = Matrix([0, 0, 8])\n",
    "omega2 = Matrix([ 0,  0, -1])\n",
    "vP = Matrix([ 8, 16,  0])\n",
    "vQ = Matrix([ 0, 12,  0])\n",
    "alpha2 = Matrix([ 0,  0, -3])\n",
    "\n",
    "alpha1=S('alpha1')\n",
    "alpha1_matrix=Matrix([0, 0, alpha1])\n",
    "alpha2_matrix=alpha2\n",
    "\n",
    "\n",
    "ap=alpha1_matrix.cross(rOP)+omega1.cross(omega1.cross(rOP))\n",
    "apq=alpha2_matrix.cross(rPQ)+omega2.cross(omega2.cross(rPQ))\n",
    "\n",
    "aq=apq+ap\n",
    "alpha1=solve([aq[0]],[alpha1])[alpha1]\n",
    "\n",
    "alpha1_matrix=Matrix([0, 0, alpha1])\n",
    "\n",
    "ap=alpha1_matrix.cross(rOP)+omega1.cross(omega1.cross(rOP))\n",
    "apq=alpha2_matrix.cross(rPQ)+omega2.cross(omega2.cross(rPQ))\n",
    "aq=apq+ap\n",
    "\n",
    "\n",
    "print(aq)"
   ]
  },
  {
   "cell_type": "markdown",
   "id": "85359be4",
   "metadata": {},
   "source": []
  }
 ],
 "metadata": {
  "kernelspec": {
   "display_name": "Python 3",
   "language": "python",
   "name": "python3"
  },
  "language_info": {
   "codemirror_mode": {
    "name": "ipython",
    "version": 3
   },
   "file_extension": ".py",
   "mimetype": "text/x-python",
   "name": "python",
   "nbconvert_exporter": "python",
   "pygments_lexer": "ipython3",
   "version": "3.9.6"
  }
 },
 "nbformat": 4,
 "nbformat_minor": 5
}

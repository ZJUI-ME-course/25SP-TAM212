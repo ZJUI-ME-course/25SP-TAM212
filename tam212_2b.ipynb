{
    "cells": [
     {
      "cell_type": "code",
      "execution_count": null,
      "metadata": {},
      "outputs": [
       {
        "data": {
         "text/plain": [
          "array([-10,   2,   4])"
         ]
        },
        "execution_count": 11,
        "metadata": {},
        "output_type": "execute_result"
       }
      ],
      "source": [
       "# 2\n",
       "import numpy as np\n",
       "\n",
       "x = 0\n",
       "y = -4\n",
       "z = 2\n",
       "omega = np.array([-1, -3, -1])\n",
       "# ==================================\n",
       "\n",
       "r=np.array([x,y,z])\n",
       "np.cross(omega,r)"
      ]
     },
     {
      "cell_type": "code",
      "execution_count": null,
      "metadata": {},
      "outputs": [
       {
        "data": {
         "text/plain": [
          "array([4, 2, 0])"
         ]
        },
        "execution_count": 17,
        "metadata": {},
        "output_type": "execute_result"
       }
      ],
      "source": [
       "# 3\n",
       "\n",
       "import numpy as np\n",
       "\n",
       "r = np.array([-1,  2,  0])\n",
       "omegaz = -2\n",
       "# ==================================\n",
       "\n",
       "omega=np.array([0,0,omegaz])\n",
       "np.cross(omega,r)"
      ]
     },
     {
      "cell_type": "code",
      "execution_count": null,
      "metadata": {},
      "outputs": [
       {
        "name": "stdout",
        "output_type": "stream",
        "text": [
         "-5.00000000000000\n"
        ]
       }
      ],
      "source": [
       "# 4\n",
       "from sympy import *\n",
       "import numpy as np\n",
       "\n",
       "x = symbols('x')\n",
       "y = -sin(0.5*x)\n",
       "vx = -10\n",
       "x_v = 2*np.pi\n",
       "# ==================================\n",
       "\n",
       "\n",
       "\n",
       "dy_dx=diff(y,x)\n",
       "dy_dt=dy_dx*vx\n",
       "print(dy_dt.subs(x,x_v))"
      ]
     },
     {
      "cell_type": "code",
      "execution_count": null,
      "metadata": {},
      "outputs": [
       {
        "data": {
         "text/plain": [
          "{a1: -3/2, a2: 0}"
         ]
        },
        "execution_count": 37,
        "metadata": {},
        "output_type": "execute_result"
       }
      ],
      "source": [
       "#5\n",
       "import numpy as np\n",
       "\n",
       "v = np.array([ 0, -3,  0])\n",
       "omegaz = 2\n",
       "\n",
       "\n",
       "# ==================================\n",
       "\n",
       "from sympy import S\n",
       "omega=np.array([0,0,omegaz])\n",
       "a1=S('a1')\n",
       "a2=S('a2')\n",
       "\n",
       "r=np.array([a1,a2,0])\n",
       "\n",
       "q1=np.cross(omega,r)[0]-v[0]\n",
       "q2=np.cross(omega,r)[1]-v[1]\n",
       "\n",
       "solve([q1,q2],[a1,a2])\n",
       "\n"
      ]
     },
     {
      "cell_type": "code",
      "execution_count": 48,
      "metadata": {},
      "outputs": [
       {
        "name": "stdout",
        "output_type": "stream",
        "text": [
         "-32\n"
        ]
       }
      ],
      "source": [
       "# 6\n",
       "\n",
       "import numpy as np\n",
       "import numpy as np\n",
       "from sympy import *\n",
       "\n",
       "x = symbols('x')\n",
       "y = 2*cos(x)\n",
       "vxMag = 4\n",
       "\n",
       "\n",
       "dy_dx=diff(y,x)\n",
       "dy_dx_2=diff(dy_dx,x)\n",
       "dx_dt=vxMag\n",
       "\n",
       "a=dy_dx_2*dx_dt**2\n",
       "# print(a)\n",
       "# 这里需要你自己写出现的点的横轴位置 比如3/2*pi\n",
       "print(a.subs(x,2*pi))\n"
      ]
     },
     {
      "cell_type": "code",
      "execution_count": null,
      "metadata": {},
      "outputs": [],
      "source": [
       "# 7\n",
       "\n"
      ]
     }
    ],
    "metadata": {
     "kernelspec": {
      "display_name": "Python 3",
      "language": "python",
      "name": "python3"
     },
     "language_info": {
      "codemirror_mode": {
       "name": "ipython",
       "version": 3
      },
      "file_extension": ".py",
      "mimetype": "text/x-python",
      "name": "python",
      "nbconvert_exporter": "python",
      "pygments_lexer": "ipython3",
      "version": "3.9.6"
     }
    },
    "nbformat": 4,
    "nbformat_minor": 2
   }
   
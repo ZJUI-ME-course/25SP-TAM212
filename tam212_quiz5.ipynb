{
 "cells": [
  {
   "cell_type": "code",
   "execution_count": null,
   "id": "464852ec",
   "metadata": {},
   "outputs": [
    {
     "name": "stdout",
     "output_type": "stream",
     "text": [
      "lbar= 10.485714285714286\n",
      "I= 7779.957142857143\n"
     ]
    }
   ],
   "source": [
    "# 1\n",
    "from sympy import *\n",
    "\n",
    "w = 3\n",
    "l1 = 4\n",
    "rho1 = 5\n",
    "l2 = 8\n",
    "rho2 = 1\n",
    "l3 = 6\n",
    "rho3 = 7\n",
    "\n",
    "\n",
    "m1=w*l1*rho1\n",
    "m2=w*l2*rho2\n",
    "m3=w*l3*rho3\n",
    "\n",
    "r1=1/2*l1\n",
    "r2=1/2*l2+l1\n",
    "r3=1/2*l3+l1+l2\n",
    "\n",
    "\n",
    "\n",
    "lbar=(r1*m1+r2*m2+r3*m3)/(m1+m2+m3)\n",
    "\n",
    "\n",
    "I1=1/12*m1*(l1**2+w**2)+m1*(1/2*l1-lbar)**2\n",
    "I2=1/12*m2*(l2**2+w**2)+m2*(l1+1/2*l2-lbar)**2\n",
    "I3=1/12*m3*(l3**2+w**2)+m3*(l1+l2+1/2*l3-lbar)**2\n",
    "I=I1+I2+I3\n",
    "print(\"lbar=\",lbar)\n",
    "print(\"I=\",I)\n",
    "\n",
    "\n"
   ]
  },
  {
   "cell_type": "code",
   "execution_count": 2,
   "id": "c818e0c9",
   "metadata": {},
   "outputs": [
    {
     "data": {
      "text/plain": [
       "88.66666666666666"
      ]
     },
     "execution_count": 2,
     "metadata": {},
     "output_type": "execute_result"
    }
   ],
   "source": [
    "# 3\n",
    "m1 = 4\n",
    "r = 2\n",
    "\n",
    "m2 = 2\n",
    "l =5 \n",
    "\n",
    "\n",
    "m3 =3\n",
    "a =2  \n",
    "b =3 \n",
    "\n",
    "m4 =3 # 质点的质量\n",
    "\n",
    "\n",
    "I1=1/2*m1*r**2+m1*(r)**2\n",
    "I2=1/12*m2*l**2+m2*(r**2+(1/2*l-r)**2)\n",
    "I3=1/12*m3*(a**2+b**2)+m3*((1/2*b-r)**2+(1/2*a+l-r)**2)\n",
    "\n",
    "I=I1+I2+I3\n",
    "I"
   ]
  },
  {
   "cell_type": "code",
   "execution_count": 8,
   "id": "520cebf0",
   "metadata": {},
   "outputs": [
    {
     "name": "stdout",
     "output_type": "stream",
     "text": [
      "4.941860465116279\n"
     ]
    },
    {
     "data": {
      "text/plain": [
       "1797.042635658915"
      ]
     },
     "execution_count": 8,
     "metadata": {},
     "output_type": "execute_result"
    }
   ],
   "source": [
    "# 3\n",
    "\n",
    "from sympy import *\n",
    "\n",
    "w = 2\n",
    "l1 = 4\n",
    "rho1 = 7\n",
    "l2 = 7\n",
    "rho2 = 1\n",
    "l3 = 4\n",
    "rho3 = 2\n",
    "\n",
    "# x1 xbar\n",
    "\n",
    "x1=l1/2\n",
    "x2=l1+l2/2\n",
    "x3=l1+l2+l3/2\n",
    "\n",
    "m1=w*rho1*l1\n",
    "m2=w*rho2*l2\n",
    "m3=w*rho3*l3\n",
    "\n",
    "xbar=(x1*m1+x2*m2+x3*m3)/(m1+m2+m3)\n",
    "print(xbar)\n",
    "\n",
    "# 都是平方和\n",
    "\n",
    "I1=1/12*m1*(l1**2+w**2)+m1*(xbar-x1)**2\n",
    "I2=1/12*m2*(l2**2+w**2)+m2*(xbar-x2)**2\n",
    "I3=1/12*m3*(l3**2+w**2)+m3*(xbar-x3)**2\n",
    "\n",
    "I=I1+I2+I3\n",
    "I\n",
    "\n"
   ]
  },
  {
   "cell_type": "code",
   "execution_count": 49,
   "id": "669e0883",
   "metadata": {},
   "outputs": [
    {
     "name": "stdout",
     "output_type": "stream",
     "text": [
      "Matrix([[0], [0], [-4*fpx + fpy/2 + 4*fqx - 32.5]])\n",
      "Matrix([[-fpx - fqx - 24.0], [9.0 - fpy], [0]])\n"
     ]
    },
    {
     "data": {
      "text/plain": [
       "{fpx: -15.5000000000000, fpy: 9.00000000000000, fqx: -8.50000000000000}"
      ]
     },
     "execution_count": 49,
     "metadata": {},
     "output_type": "execute_result"
    }
   ],
   "source": [
    "# 2\n",
    "\n",
    "from sympy import *\n",
    "m1 = 4.000\n",
    "m2 = 6.000\n",
    "I1 = 8.000\n",
    "I2 = 32.500\n",
    "\n",
    "rOP = Matrix([2, 0, 0])\n",
    "rPQ = Matrix([-1, -8,  0])\n",
    "omega1 = Matrix([ 0,  0, -2])\n",
    "omega2 = Matrix([0, 0, 0])\n",
    "vP = Matrix([ 0, -4,  0])\n",
    "vQ = Matrix([ 0, -4,  0])\n",
    "alpha1 = Matrix([0.000, 0.000, 1.000])\n",
    "aP = Matrix([-8.000, 2.000, 0.000])\n",
    "aQ = Matrix([0.000, 1.000, 0.000])\n",
    "M = Matrix([0.000, 0.000, 26.000])\n",
    "\n",
    "a2=S('a2')\n",
    "alpha2=Matrix([0,0,a2])\n",
    "\n",
    "aq=alpha2.cross(rPQ)+omega2.cross(omega2.cross(rPQ))+aP\n",
    "aP=alpha1.cross(rOP)+omega1.cross(omega1.cross(rOP))\n",
    "q1=aQ-aq\n",
    "a2=solve(q1)[a2]\n",
    "alpha2=Matrix([0,0,a2])\n",
    "\n",
    "\n",
    "fpx,fpy,fqx,fqy=S('fpx,fpy,fqx,fqy')\n",
    "fqy=0\n",
    "\n",
    "fp=Matrix([fpx,fpy,0])\n",
    "fq=Matrix([fqx,fqy,0])\n",
    "\n",
    "\n",
    "\n",
    "rCP=rPQ/-2\n",
    "rCQ=rPQ/2\n",
    "\n",
    "rPC=rCQ\n",
    "\n",
    "q2=rCQ.cross(fq)+rCP.cross(fp)-I2*alpha2\n",
    "\n",
    "print(q2)\n",
    "\n",
    "ac=aP+alpha2.cross(rPC)+omega2.cross(omega2.cross(rPC))\n",
    "q3=m2*ac-fq-fp\n",
    "\n",
    "print(q3)\n",
    "\n",
    "solve([q2,q3])\n",
    "\n",
    "\n"
   ]
  },
  {
   "cell_type": "code",
   "execution_count": 65,
   "id": "411bedf0",
   "metadata": {},
   "outputs": [
    {
     "name": "stdout",
     "output_type": "stream",
     "text": [
      "{fpx: -18.0000000000000, fpy: 18.5000000000000}\n",
      "Matrix([[0], [0], [-40.0000000000000]])\n"
     ]
    }
   ],
   "source": [
    "from sympy import *\n",
    "from sympy import *\n",
    "\n",
    "m1 = 2.000\n",
    "m2 = 6.000\n",
    "I1 = 4.000\n",
    "I2 = 34.000\n",
    "rOP = Matrix([ 0, -2,  0])\n",
    "rPQ = Matrix([-8,  2,  0])\n",
    "omega1 = Matrix([0, 0, 2])\n",
    "omega2 = Matrix([0, 0, 0])\n",
    "vP = Matrix([4, 0, 0])\n",
    "vQ = Matrix([4, 0, 0])\n",
    "alpha1 = Matrix([0.000, 0.000, -1.000])\n",
    "aQ = Matrix([-4.000, 0.000, 0.000])\n",
    "FQ = Matrix([0.000, 5.500, 0.000])\n",
    "\n",
    "a2=S('a2')\n",
    "alpha2=Matrix([0,0,a2])\n",
    "\n",
    "aP=alpha1.cross(rOP)+omega1.cross(omega1.cross(rOP))\n",
    "aq=alpha2.cross(rPQ)+omega2.cross(omega2.cross(rPQ))+aP\n",
    "q1=aq-aQ\n",
    "a2=solve(q1)[a2]\n",
    "alpha2=Matrix([0,0,a2])\n",
    "\n",
    "# 1\n",
    "fpx,fpy=S(\"fpx,fpy\")\n",
    "fq=FQ\n",
    "fp=Matrix([fpx,fpy,0])\n",
    "\n",
    "rPC=1/2*rPQ\n",
    "ac=alpha2.cross(rPC)+omega2.cross(omega2.cross(rPC))+aP\n",
    "q2=m2*ac-fq-fp\n",
    "an=solve(q2)\n",
    "\n",
    "print(an)\n",
    "fpx=an[fpx]\n",
    "fpy=an[fpy]\n",
    "fp=Matrix([fpx,fpy,0])\n",
    "\n",
    "M=I1*alpha1+rOP.cross(fp)\n",
    "print(M)\n",
    "\n"
   ]
  },
  {
   "cell_type": "code",
   "execution_count": 64,
   "id": "844c0b19",
   "metadata": {},
   "outputs": [
    {
     "name": "stdout",
     "output_type": "stream",
     "text": [
      "Matrix([[2.0 - 2*a2], [8 - 8*a2], [0]])\n"
     ]
    }
   ],
   "source": [
    "# 5\n",
    "\n",
    "from sympy import *\n",
    "\n",
    "m1 = 2.000\n",
    "m2 = 6.000\n",
    "I1 = 4.000\n",
    "I2 = 34.000\n",
    "rOP = Matrix([ 0, -2,  0])\n",
    "rPQ = Matrix([-8,  2,  0])\n",
    "omega1 = Matrix([0, 0, 2])\n",
    "omega2 = Matrix([0, 0, 0])\n",
    "vP = Matrix([4, 0, 0])\n",
    "vQ = Matrix([4, 0, 0])\n",
    "alpha1 = Matrix([0.000, 0.000, -1.000])\n",
    "aQ = Matrix([-4.000, 0.000, 0.000])\n",
    "FQ = Matrix([0.000, 5.500, 0.000])\n",
    "\n",
    "\n",
    "a2=S('a2')\n",
    "alpha2=Matrix([0,0,a2])\n",
    "\n",
    "aP=alpha1.cross(rOP)+omega1.cross(omega1.cross(rOP))\n",
    "aq=alpha2.cross(rPQ)+omega2.cross(omega2.cross(rPQ))+aP\n",
    "q1=aq-aQ\n",
    "print(q1)\n",
    "a2=solve(q1)[a2]\n",
    "alpha2=Matrix([0,0,a2])\n",
    "\n",
    "\n"
   ]
  },
  {
   "cell_type": "code",
   "execution_count": 78,
   "id": "5013125b",
   "metadata": {},
   "outputs": [
    {
     "name": "stdout",
     "output_type": "stream",
     "text": [
      "Matrix([[-3.0*a1 - 12.0*a2 - 219.0], [3.0*a1 + 1.5*a2 + 240.0], [0]])\n",
      "Matrix([[0], [0], [32.5 - 16.25*a2]])\n"
     ]
    }
   ],
   "source": [
    "from sympy import *\n",
    "\n",
    "m1 = 4.000\n",
    "m2 = 3.000\n",
    "I1 = 4.000\n",
    "I2 = 16.250\n",
    "rOP = Matrix([-1, -1,  0])\n",
    "rPQ = Matrix([-1, -8,  0])\n",
    "omega1 = Matrix([0.000, 0.000, -8.000])\n",
    "omega2 = Matrix([0, 0, 1])\n",
    "vP = Matrix([-8.000, 8.000, 0.000])\n",
    "vQ = Matrix([0.000, 7.000, 0.000])\n",
    "FP = Matrix([10.9375, 444.000, 0.000])\n",
    "FQ = Matrix([-36.4375, 0.000, 0.000])\n",
    "M = Matrix([0.000, 0.000, -757.062])\n",
    "\n",
    "\n",
    "a1,a2=S('a1,a2')\n",
    "\n",
    "alpha1=Matrix([0,0,a1])\n",
    "alpha2=Matrix([0,0,a2])\n",
    "\n",
    "aP=alpha1.cross(rOP)+omega1.cross(omega1.cross(rOP))\n",
    "aQ=alpha2.cross(rPQ)+omega2.cross(omega2.cross(rPQ))+aP\n",
    "\n",
    "rPC=rPQ/2\n",
    "\n",
    "ac=alpha2.cross(rPC)+omega2.cross(omega2.cross(rPC))+aP\n",
    "\n",
    "q1=FP+FQ-m2*ac\n",
    "print(q1)\n",
    "\n",
    "rCP=rPQ/-2\n",
    "rCQ=rPQ/2\n",
    "\n",
    "rPC=rCQ\n",
    "\n",
    "q2=rCQ.cross(FQ)+rCP.cross(FP)-I2*alpha2\n",
    "\n",
    "solve([q1],[a1,a2])\n",
    "\n",
    "print(q2)\n"
   ]
  },
  {
   "cell_type": "code",
   "execution_count": null,
   "id": "b5fe525b",
   "metadata": {},
   "outputs": [],
   "source": [
    "# \n"
   ]
  }
 ],
 "metadata": {
  "kernelspec": {
   "display_name": "Python 3",
   "language": "python",
   "name": "python3"
  },
  "language_info": {
   "codemirror_mode": {
    "name": "ipython",
    "version": 3
   },
   "file_extension": ".py",
   "mimetype": "text/x-python",
   "name": "python",
   "nbconvert_exporter": "python",
   "pygments_lexer": "ipython3",
   "version": "3.9.6"
  }
 },
 "nbformat": 4,
 "nbformat_minor": 5
}

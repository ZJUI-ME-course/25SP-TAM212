{
 "cells": [
  {
   "cell_type": "code",
   "execution_count": 2,
   "metadata": {},
   "outputs": [],
   "source": [
    "import numpy as np\n",
    "\n",
    "r = np.array([ 2, -3,  0])\n",
    "omega_z = -2\n",
    "z=omega_z\n",
    "\n",
    "\n",
    "\n"
   ]
  },
  {
   "cell_type": "code",
   "execution_count": null,
   "metadata": {},
   "outputs": [
    {
     "name": "stdout",
     "output_type": "stream",
     "text": [
      "[ 0.0239673  -0.76443671  0.64425312]\n",
      "[0.19404903 0.85618477 0.47884509]\n",
      "urbana [  152695.66915994 -4870226.29231567  4104536.6235736 ]\n",
      "beihi [1236286.34261941 5454753.15979854 3050722.05300984]\n",
      "直线距离: 10435032.083483087\n",
      "曲线距离 12226904.430871695\n"
     ]
    }
   ],
   "source": [
    "from numpy import *\n",
    "\n",
    "r=6.371e6 #m\n",
    "fai1=90-40.1097\n",
    "fai2=90-28.6100\n",
    "# 设置0精度为xz面\n",
    "theta1=-88.2042\n",
    "theta2=77.2300\n",
    "\n",
    "\n",
    "x1=r*sin(radians(fai1))*cos(radians(theta1))\n",
    "x2=r*sin(radians(fai2))*cos(radians(theta2))\n",
    "\n",
    "y1=r*sin(radians(fai1))*sin(radians(theta1))\n",
    "y2=r*sin(radians(fai2))*sin(radians(theta2))\n",
    "z1=r*cos(radians(fai1))\n",
    "z2=r*cos(radians(fai2))\n",
    "\n",
    "\n",
    "pos1=array([x1,y1,z1])\n",
    "pos2=array([x2,y2,z2])\n",
    "\n",
    "print(pos1/linalg.norm(pos1))\n",
    "print(pos2/linalg.norm(pos2))\n",
    "\n",
    "print(\"urbana\",pos1)\n",
    "print(\"beihi\",pos2)\n",
    "\n",
    "\n",
    "\n",
    "squared_difference = sqrt((x1 - x2)**2 + (y1 - y2)**2 + (z1 - z2)**2)\n",
    "\n",
    "print(\"直线距离:\", squared_difference)\n",
    "\n",
    "\n",
    "curve_distance=radians((degrees(asin(squared_difference/2/r))*2))*r\n",
    "print(\"曲线距离\",curve_distance)\n",
    "\n",
    "\n"
   ]
  },
  {
   "cell_type": "code",
   "execution_count": 4,
   "metadata": {},
   "outputs": [
    {
     "name": "stdout",
     "output_type": "stream",
     "text": [
      "向量 pos1 和 zzhou 的夹角（度数）：79.65067939284346\n"
     ]
    }
   ],
   "source": [
    "# 5\n",
    "\n",
    "\n",
    "cross_product = cross(pos1, pos2)\n",
    "# print(cross_product/linalg.norm(cross_product))\n",
    "zzhou=array([0,0,1])\n",
    "\n",
    "cos_theta = dot(cross_product , zzhou) / (linalg.norm(cross_product ) * linalg.norm(zzhou))\n",
    "\n",
    "theta_radians = arccos(cos_theta)\n",
    "theta_degrees = degrees(theta_radians)\n",
    "print(f\"向量 pos1 和 zzhou 的夹角（度数）：{theta_degrees}\")\n",
    "\n",
    "\n",
    "\n"
   ]
  },
  {
   "cell_type": "code",
   "execution_count": 5,
   "metadata": {},
   "outputs": [
    {
     "name": "stdout",
     "output_type": "stream",
     "text": [
      "tangent1 [0.21515325 0.6332811  0.74341383]\n",
      "tangent2 [ 0.09597046 -0.50235056  0.85932159]\n"
     ]
    }
   ],
   "source": [
    "# 6\n",
    "pos1=array([x1,y1,z1])\n",
    "cross_product = cross(pos1, pos2)\n",
    "\n",
    "\n",
    "tangent1=cross(pos1,cross_product)\n",
    "tangent1=tangent1/linalg.norm(tangent1)\n",
    "\n",
    "\n",
    "\n",
    "pos2=array([x2,y2,z2])\n",
    "cross_product = cross(pos1, pos2)\n",
    "\n",
    "# 用正解\n",
    "tangent2=cross(pos2,cross_product)\n",
    "tangent2=tangent2/linalg.norm(tangent2)\n",
    "print('tangent1',-tangent1)\n",
    "\n",
    "\n",
    "print('tangent2',tangent2)\n",
    "\n"
   ]
  },
  {
   "cell_type": "code",
   "execution_count": 6,
   "metadata": {},
   "outputs": [
    {
     "name": "stdout",
     "output_type": "stream",
     "text": [
      "er [ 0.0239673  -0.76443671  0.64425312]\n",
      "etheta [ 0.02018928 -0.6439367  -0.76481234]\n",
      "etfai [9.99508860e-01 3.13374913e-02 2.58876279e-18]\n"
     ]
    }
   ],
   "source": [
    "# \n",
    "pos1=array([x1,y1,z1])\n",
    "zzhou=array([0,0,1])\n",
    "chuizhi= cross(pos1, zzhou)\n",
    "etheta=cross(pos1, chuizhi)\n",
    "\n",
    "efai=cross(pos1, etheta)\n",
    "er=pos1/linalg.norm(pos1)\n",
    "etheta=etheta/linalg.norm(etheta)\n",
    "efai=efai/linalg.norm(efai)\n",
    "\n",
    "print(\"er\",er)\n",
    "print(\"etheta\",etheta)\n",
    "print(\"etfai\",efai)\n",
    "\n",
    "\n",
    "\n",
    "\n",
    "\n"
   ]
  },
  {
   "cell_type": "code",
   "execution_count": null,
   "metadata": {},
   "outputs": [],
   "source": []
  }
 ],
 "metadata": {
  "kernelspec": {
   "display_name": "Python 3",
   "language": "python",
   "name": "python3"
  },
  "language_info": {
   "codemirror_mode": {
    "name": "ipython",
    "version": 3
   },
   "file_extension": ".py",
   "mimetype": "text/x-python",
   "name": "python",
   "nbconvert_exporter": "python",
   "pygments_lexer": "ipython3",
   "version": "3.12.6"
  }
 },
 "nbformat": 4,
 "nbformat_minor": 2
}
